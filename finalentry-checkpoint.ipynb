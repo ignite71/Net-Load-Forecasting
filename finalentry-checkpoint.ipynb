{
 "cells": [
  {
   "cell_type": "code",
   "execution_count": 1,
   "metadata": {},
   "outputs": [],
   "source": [
    "import pandas as pd\n",
    "import matplotlib.pyplot as plt\n"
   ]
  },
  {
   "cell_type": "code",
   "execution_count": 2,
   "metadata": {},
   "outputs": [],
   "source": [
    "%matplotlib inline"
   ]
  },
  {
   "cell_type": "code",
   "execution_count": 3,
   "metadata": {},
   "outputs": [],
   "source": [
    "fname = '2011-2012 Solar home electricity data v2.csv'"
   ]
  },
  {
   "cell_type": "code",
   "execution_count": 4,
   "metadata": {},
   "outputs": [
    {
     "data": {
      "text/plain": [
       "270304"
      ]
     },
     "execution_count": 4,
     "metadata": {},
     "output_type": "execute_result"
    }
   ],
   "source": [
    "d_raw = pd.read_csv(fname, skiprows=1,\n",
    "                    parse_dates=['date'], dayfirst=True,\n",
    "                    na_filter=False, dtype={'Row Quality': str})\n",
    "len(d_raw)"
   ]
  },
  {
   "cell_type": "code",
   "execution_count": 5,
   "metadata": {},
   "outputs": [
    {
     "data": {
      "text/html": [
       "<div>\n",
       "<style scoped>\n",
       "    .dataframe tbody tr th:only-of-type {\n",
       "        vertical-align: middle;\n",
       "    }\n",
       "\n",
       "    .dataframe tbody tr th {\n",
       "        vertical-align: top;\n",
       "    }\n",
       "\n",
       "    .dataframe thead th {\n",
       "        text-align: right;\n",
       "    }\n",
       "</style>\n",
       "<table border=\"1\" class=\"dataframe\">\n",
       "  <thead>\n",
       "    <tr style=\"text-align: right;\">\n",
       "      <th></th>\n",
       "      <th>Customer</th>\n",
       "      <th>Generator Capacity</th>\n",
       "      <th>Postcode</th>\n",
       "      <th>Consumption Category</th>\n",
       "      <th>date</th>\n",
       "      <th>0:30</th>\n",
       "      <th>1:00</th>\n",
       "      <th>1:30</th>\n",
       "      <th>2:00</th>\n",
       "      <th>2:30</th>\n",
       "      <th>...</th>\n",
       "      <th>20:00</th>\n",
       "      <th>20:30</th>\n",
       "      <th>21:00</th>\n",
       "      <th>21:30</th>\n",
       "      <th>22:00</th>\n",
       "      <th>22:30</th>\n",
       "      <th>23:00</th>\n",
       "      <th>23:30</th>\n",
       "      <th>0:00</th>\n",
       "      <th>Row Quality</th>\n",
       "    </tr>\n",
       "  </thead>\n",
       "  <tbody>\n",
       "    <tr>\n",
       "      <th>0</th>\n",
       "      <td>1</td>\n",
       "      <td>3.78</td>\n",
       "      <td>2076</td>\n",
       "      <td>CL</td>\n",
       "      <td>2011-07-01</td>\n",
       "      <td>1.250</td>\n",
       "      <td>1.250</td>\n",
       "      <td>1.250</td>\n",
       "      <td>0.625</td>\n",
       "      <td>0.219</td>\n",
       "      <td>...</td>\n",
       "      <td>0.000</td>\n",
       "      <td>0.000</td>\n",
       "      <td>0.000</td>\n",
       "      <td>0.000</td>\n",
       "      <td>0.000</td>\n",
       "      <td>0.000</td>\n",
       "      <td>0.000</td>\n",
       "      <td>0.000</td>\n",
       "      <td>1.063</td>\n",
       "      <td></td>\n",
       "    </tr>\n",
       "    <tr>\n",
       "      <th>1</th>\n",
       "      <td>1</td>\n",
       "      <td>3.78</td>\n",
       "      <td>2076</td>\n",
       "      <td>GC</td>\n",
       "      <td>2011-07-01</td>\n",
       "      <td>1.077</td>\n",
       "      <td>0.669</td>\n",
       "      <td>0.674</td>\n",
       "      <td>0.615</td>\n",
       "      <td>0.321</td>\n",
       "      <td>...</td>\n",
       "      <td>0.276</td>\n",
       "      <td>0.241</td>\n",
       "      <td>0.168</td>\n",
       "      <td>0.234</td>\n",
       "      <td>0.164</td>\n",
       "      <td>0.639</td>\n",
       "      <td>0.118</td>\n",
       "      <td>0.219</td>\n",
       "      <td>0.162</td>\n",
       "      <td></td>\n",
       "    </tr>\n",
       "    <tr>\n",
       "      <th>2</th>\n",
       "      <td>1</td>\n",
       "      <td>3.78</td>\n",
       "      <td>2076</td>\n",
       "      <td>GG</td>\n",
       "      <td>2011-07-01</td>\n",
       "      <td>0.000</td>\n",
       "      <td>0.000</td>\n",
       "      <td>0.000</td>\n",
       "      <td>0.000</td>\n",
       "      <td>0.000</td>\n",
       "      <td>...</td>\n",
       "      <td>0.000</td>\n",
       "      <td>0.000</td>\n",
       "      <td>0.000</td>\n",
       "      <td>0.000</td>\n",
       "      <td>0.000</td>\n",
       "      <td>0.000</td>\n",
       "      <td>0.000</td>\n",
       "      <td>0.000</td>\n",
       "      <td>0.000</td>\n",
       "      <td></td>\n",
       "    </tr>\n",
       "    <tr>\n",
       "      <th>3</th>\n",
       "      <td>1</td>\n",
       "      <td>3.78</td>\n",
       "      <td>2076</td>\n",
       "      <td>CL</td>\n",
       "      <td>2011-07-02</td>\n",
       "      <td>1.238</td>\n",
       "      <td>1.244</td>\n",
       "      <td>1.194</td>\n",
       "      <td>0.000</td>\n",
       "      <td>0.888</td>\n",
       "      <td>...</td>\n",
       "      <td>0.000</td>\n",
       "      <td>0.000</td>\n",
       "      <td>0.000</td>\n",
       "      <td>0.000</td>\n",
       "      <td>0.000</td>\n",
       "      <td>0.000</td>\n",
       "      <td>0.000</td>\n",
       "      <td>0.000</td>\n",
       "      <td>1.075</td>\n",
       "      <td></td>\n",
       "    </tr>\n",
       "    <tr>\n",
       "      <th>4</th>\n",
       "      <td>1</td>\n",
       "      <td>3.78</td>\n",
       "      <td>2076</td>\n",
       "      <td>GC</td>\n",
       "      <td>2011-07-02</td>\n",
       "      <td>0.476</td>\n",
       "      <td>0.130</td>\n",
       "      <td>0.044</td>\n",
       "      <td>0.094</td>\n",
       "      <td>0.032</td>\n",
       "      <td>...</td>\n",
       "      <td>0.234</td>\n",
       "      <td>0.306</td>\n",
       "      <td>0.183</td>\n",
       "      <td>0.240</td>\n",
       "      <td>0.170</td>\n",
       "      <td>0.506</td>\n",
       "      <td>0.224</td>\n",
       "      <td>0.088</td>\n",
       "      <td>0.084</td>\n",
       "      <td></td>\n",
       "    </tr>\n",
       "  </tbody>\n",
       "</table>\n",
       "<p>5 rows × 54 columns</p>\n",
       "</div>"
      ],
      "text/plain": [
       "   Customer  Generator Capacity  Postcode Consumption Category       date  \\\n",
       "0         1                3.78      2076                   CL 2011-07-01   \n",
       "1         1                3.78      2076                   GC 2011-07-01   \n",
       "2         1                3.78      2076                   GG 2011-07-01   \n",
       "3         1                3.78      2076                   CL 2011-07-02   \n",
       "4         1                3.78      2076                   GC 2011-07-02   \n",
       "\n",
       "    0:30   1:00   1:30   2:00   2:30  ...  20:00  20:30  21:00  21:30  22:00  \\\n",
       "0  1.250  1.250  1.250  0.625  0.219  ...  0.000  0.000  0.000  0.000  0.000   \n",
       "1  1.077  0.669  0.674  0.615  0.321  ...  0.276  0.241  0.168  0.234  0.164   \n",
       "2  0.000  0.000  0.000  0.000  0.000  ...  0.000  0.000  0.000  0.000  0.000   \n",
       "3  1.238  1.244  1.194  0.000  0.888  ...  0.000  0.000  0.000  0.000  0.000   \n",
       "4  0.476  0.130  0.044  0.094  0.032  ...  0.234  0.306  0.183  0.240  0.170   \n",
       "\n",
       "   22:30  23:00  23:30   0:00  Row Quality  \n",
       "0  0.000  0.000  0.000  1.063               \n",
       "1  0.639  0.118  0.219  0.162               \n",
       "2  0.000  0.000  0.000  0.000               \n",
       "3  0.000  0.000  0.000  1.075               \n",
       "4  0.506  0.224  0.088  0.084               \n",
       "\n",
       "[5 rows x 54 columns]"
      ]
     },
     "execution_count": 5,
     "metadata": {},
     "output_type": "execute_result"
    }
   ],
   "source": [
    "d_raw.head()"
   ]
  },
  {
   "cell_type": "code",
   "execution_count": 6,
   "metadata": {},
   "outputs": [
    {
     "data": {
      "text/plain": [
       "(Timestamp('2011-07-01 00:00:00'), Timestamp('2012-06-30 00:00:00'))"
      ]
     },
     "execution_count": 6,
     "metadata": {},
     "output_type": "execute_result"
    }
   ],
   "source": [
    "d0, d1 = d_raw.date.min(), d_raw.date.max()\n",
    "d0, d1"
   ]
  },
  {
   "cell_type": "code",
   "execution_count": 7,
   "metadata": {},
   "outputs": [
    {
     "data": {
      "text/plain": [
       "      270204\n",
       "NA       100\n",
       "Name: Row Quality, dtype: int64"
      ]
     },
     "execution_count": 7,
     "metadata": {},
     "output_type": "execute_result"
    }
   ],
   "source": [
    "d_raw['Row Quality'].value_counts()"
   ]
  },
  {
   "cell_type": "code",
   "execution_count": 8,
   "metadata": {},
   "outputs": [
    {
     "data": {
      "text/plain": [
       "array([  1,   2,   3,   4,   5,   6,   7,   8,   9,  10,  11,  12,  13,\n",
       "        14,  15,  16,  17,  18,  19,  20,  21,  22,  23,  24,  25,  26,\n",
       "        27,  28,  29,  30,  31,  32,  33,  34,  35,  36,  37,  38,  39,\n",
       "        40,  41,  42,  43,  44,  45,  46,  47,  48,  49,  50,  51,  52,\n",
       "        53,  54,  55,  56,  57,  58,  59,  60,  61,  62,  63,  64,  65,\n",
       "        66,  67,  68,  69,  70,  71,  72,  73,  74,  75,  76,  77,  78,\n",
       "        79,  80,  81,  82,  83,  84,  85,  86,  87,  88,  89,  90,  91,\n",
       "        92,  93,  94,  95,  96,  97,  98,  99, 100, 101, 102, 103, 104,\n",
       "       105, 106, 107, 108, 109, 110, 111, 112, 113, 114, 115, 116, 117,\n",
       "       118, 119, 120, 121, 122, 123, 124, 125, 126, 127, 128, 129, 130,\n",
       "       131, 132, 133, 134, 135, 136, 137, 138, 139, 140, 141, 142, 143,\n",
       "       144, 145, 146, 147, 148, 149, 150, 151, 152, 153, 154, 155, 156,\n",
       "       157, 158, 159, 160, 161, 162, 163, 164, 165, 166, 167, 168, 169,\n",
       "       170, 171, 172, 173, 174, 175, 176, 177, 178, 179, 180, 181, 182,\n",
       "       183, 184, 185, 186, 187, 188, 189, 190, 191, 192, 193, 194, 195,\n",
       "       196, 197, 198, 199, 200, 201, 202, 203, 204, 205, 206, 207, 208,\n",
       "       209, 210, 211, 212, 213, 214, 215, 216, 217, 218, 219, 220, 221,\n",
       "       222, 223, 224, 225, 226, 227, 228, 229, 230, 231, 232, 233, 234,\n",
       "       235, 236, 237, 238, 239, 240, 241, 242, 243, 244, 245, 246, 247,\n",
       "       248, 249, 250, 251, 252, 253, 254, 255, 256, 257, 258, 259, 260,\n",
       "       261, 262, 263, 264, 265, 266, 267, 268, 269, 270, 271, 272, 273,\n",
       "       274, 275, 276, 277, 278, 279, 280, 281, 282, 283, 284, 285, 286,\n",
       "       287, 288, 289, 290, 291, 292, 293, 294, 295, 296, 297, 298, 299,\n",
       "       300], dtype=int64)"
      ]
     },
     "execution_count": 8,
     "metadata": {},
     "output_type": "execute_result"
    }
   ],
   "source": [
    "d_raw['Customer'].unique()\n"
   ]
  },
  {
   "cell_type": "code",
   "execution_count": 9,
   "metadata": {},
   "outputs": [
    {
     "data": {
      "text/plain": [
       "300"
      ]
     },
     "execution_count": 9,
     "metadata": {},
     "output_type": "execute_result"
    }
   ],
   "source": [
    "len(d_raw['Customer'].unique())"
   ]
  },
  {
   "cell_type": "code",
   "execution_count": 10,
   "metadata": {},
   "outputs": [
    {
     "data": {
      "text/plain": [
       "array(['CL', 'GC', 'GG'], dtype=object)"
      ]
     },
     "execution_count": 10,
     "metadata": {},
     "output_type": "execute_result"
    }
   ],
   "source": [
    "d_raw['Consumption Category'].unique()"
   ]
  },
  {
   "cell_type": "code",
   "execution_count": 11,
   "metadata": {},
   "outputs": [
    {
     "data": {
      "text/plain": [
       "GC    109800\n",
       "GG    109800\n",
       "CL     50704\n",
       "Name: Consumption Category, dtype: int64"
      ]
     },
     "execution_count": 11,
     "metadata": {},
     "output_type": "execute_result"
    }
   ],
   "source": [
    "d_raw['Consumption Category'].value_counts()"
   ]
  },
  {
   "cell_type": "code",
   "execution_count": 12,
   "metadata": {},
   "outputs": [],
   "source": [
    "from pandas.tseries.offsets import Day"
   ]
  },
  {
   "cell_type": "code",
   "execution_count": 13,
   "metadata": {},
   "outputs": [
    {
     "data": {
      "text/plain": [
       "Timestamp('2012-06-30 00:00:00')"
      ]
     },
     "execution_count": 13,
     "metadata": {},
     "output_type": "execute_result"
    }
   ],
   "source": [
    "d1"
   ]
  },
  {
   "cell_type": "code",
   "execution_count": 14,
   "metadata": {},
   "outputs": [
    {
     "data": {
      "text/plain": [
       "Timestamp('2012-07-01 00:00:00')"
      ]
     },
     "execution_count": 14,
     "metadata": {},
     "output_type": "execute_result"
    }
   ],
   "source": [
    "\n",
    "d1 + Day(1)"
   ]
  },
  {
   "cell_type": "code",
   "execution_count": 15,
   "metadata": {},
   "outputs": [
    {
     "data": {
      "text/plain": [
       "DatetimeIndex(['2011-07-01 00:00:00', '2011-07-01 00:30:00',\n",
       "               '2011-07-01 01:00:00', '2011-07-01 01:30:00',\n",
       "               '2011-07-01 02:00:00', '2011-07-01 02:30:00',\n",
       "               '2011-07-01 03:00:00', '2011-07-01 03:30:00',\n",
       "               '2011-07-01 04:00:00', '2011-07-01 04:30:00',\n",
       "               ...\n",
       "               '2012-06-30 19:00:00', '2012-06-30 19:30:00',\n",
       "               '2012-06-30 20:00:00', '2012-06-30 20:30:00',\n",
       "               '2012-06-30 21:00:00', '2012-06-30 21:30:00',\n",
       "               '2012-06-30 22:00:00', '2012-06-30 22:30:00',\n",
       "               '2012-06-30 23:00:00', '2012-06-30 23:30:00'],\n",
       "              dtype='datetime64[ns]', length=17568, freq='30T')"
      ]
     },
     "execution_count": 15,
     "metadata": {},
     "output_type": "execute_result"
    }
   ],
   "source": [
    "index = pd.date_range(d0, d1 + Day(1), freq='30T', closed='left')\n",
    "index"
   ]
  },
  {
   "cell_type": "code",
   "execution_count": 16,
   "metadata": {},
   "outputs": [
    {
     "name": "stdout",
     "output_type": "stream",
     "text": [
      "[1, 2, 3, 4, 5, 6, 7, 8, 9, 10, 11, 12, 13, 14, 15, 16, 17, 18, 19, 20, 21, 22, 23, 24, 25, 26, 27, 28, 29, 30, 31, 32, 33, 34, 35, 36, 37, 38, 39, 40, 41, 42, 43, 44, 45, 46, 47, 48, 49, 50, 51, 52, 53, 54, 55, 56, 57, 58, 59, 60, 61, 62, 63, 64, 65, 66, 67, 68, 69, 70, 71, 72, 73, 74, 75, 76, 77, 78, 79, 80, 81, 82, 83, 84, 85, 86, 87, 88, 89, 90, 91, 92, 93, 94, 95, 96, 97, 98, 99, 100, 101, 102, 103, 104, 105, 106, 107, 108, 109, 110, 111, 112, 113, 114, 115, 116, 117, 118, 119, 120, 121, 122, 123, 124, 125, 126, 127, 128, 129, 130, 131, 132, 133, 134, 135, 136, 137, 138, 139, 140, 141, 142, 143, 144, 145, 146, 147, 148, 149, 150, 151, 152, 153, 154, 155, 156, 157, 158, 159, 160, 161, 162, 163, 164, 165, 166, 167, 168, 169, 170, 171, 172, 173, 174, 175, 176, 177, 178, 179, 180, 181, 182, 183, 184, 185, 186, 187, 188, 189, 190, 191, 192, 193, 194, 195, 196, 197, 198, 199, 200, 201, 202, 203, 204, 205, 206, 207, 208, 209, 210, 211, 212, 213, 214, 215, 216, 217, 218, 219, 220, 221, 222, 223, 224, 225, 226, 227, 228, 229, 230, 231, 232, 233, 234, 235, 236, 237, 238, 239, 240, 241, 242, 243, 244, 245, 246, 247, 248, 249, 250, 251, 252, 253, 254, 255, 256, 257, 258, 259, 260, 261, 262, 263, 264, 265, 266, 267, 268, 269, 270, 271, 272, 273, 274, 275, 276, 277, 278, 279, 280, 281, 282, 283, 284, 285, 286, 287, 288, 289, 290, 291, 292, 293, 294, 295, 296, 297, 298, 299, 300]\n"
     ]
    }
   ],
   "source": [
    "customers = sorted(d_raw.Customer.unique())\n",
    "print(customers)"
   ]
  },
  {
   "cell_type": "code",
   "execution_count": 17,
   "metadata": {},
   "outputs": [
    {
     "data": {
      "text/plain": [
       "array(['CL', 'GC', 'GG'], dtype=object)"
      ]
     },
     "execution_count": 17,
     "metadata": {},
     "output_type": "execute_result"
    }
   ],
   "source": [
    "channels = d_raw['Consumption Category'].unique()\n",
    "channels"
   ]
  },
  {
   "cell_type": "code",
   "execution_count": 18,
   "metadata": {},
   "outputs": [],
   "source": [
    "channels = ['GC', 'GG', 'CL']"
   ]
  },
  {
   "cell_type": "code",
   "execution_count": 19,
   "metadata": {},
   "outputs": [
    {
     "data": {
      "text/plain": [
       "MultiIndex([(  1, 'GC'),\n",
       "            (  1, 'GG'),\n",
       "            (  1, 'CL'),\n",
       "            (  2, 'GC'),\n",
       "            (  2, 'GG'),\n",
       "            (  2, 'CL'),\n",
       "            (  3, 'GC'),\n",
       "            (  3, 'GG'),\n",
       "            (  3, 'CL'),\n",
       "            (  4, 'GC'),\n",
       "            ...\n",
       "            (297, 'CL'),\n",
       "            (298, 'GC'),\n",
       "            (298, 'GG'),\n",
       "            (298, 'CL'),\n",
       "            (299, 'GC'),\n",
       "            (299, 'GG'),\n",
       "            (299, 'CL'),\n",
       "            (300, 'GC'),\n",
       "            (300, 'GG'),\n",
       "            (300, 'CL')],\n",
       "           names=['Customer', 'Channel'], length=900)"
      ]
     },
     "execution_count": 19,
     "metadata": {},
     "output_type": "execute_result"
    }
   ],
   "source": [
    "\n",
    "columns = pd.MultiIndex.from_product(\n",
    "    (customers, channels), names=['Customer', 'Channel'])\n",
    "columns"
   ]
  },
  {
   "cell_type": "code",
   "execution_count": 20,
   "metadata": {},
   "outputs": [],
   "source": [
    "empty_cols = pd.MultiIndex(\n",
    "    levels=[customers, channels],\n",
    "    codes=[[],[]],\n",
    "    names=['Customer', 'Channel'])"
   ]
  },
  {
   "cell_type": "code",
   "execution_count": 21,
   "metadata": {},
   "outputs": [
    {
     "data": {
      "text/html": [
       "<div>\n",
       "<style scoped>\n",
       "    .dataframe tbody tr th:only-of-type {\n",
       "        vertical-align: middle;\n",
       "    }\n",
       "\n",
       "    .dataframe tbody tr th {\n",
       "        vertical-align: top;\n",
       "    }\n",
       "\n",
       "    .dataframe thead tr th {\n",
       "        text-align: left;\n",
       "    }\n",
       "</style>\n",
       "<table border=\"1\" class=\"dataframe\">\n",
       "  <thead>\n",
       "  </thead>\n",
       "  <tbody>\n",
       "    <tr>\n",
       "      <th>2011-07-01 00:00:00</th>\n",
       "    </tr>\n",
       "    <tr>\n",
       "      <th>2011-07-01 00:30:00</th>\n",
       "    </tr>\n",
       "    <tr>\n",
       "      <th>2011-07-01 01:00:00</th>\n",
       "    </tr>\n",
       "    <tr>\n",
       "      <th>2011-07-01 01:30:00</th>\n",
       "    </tr>\n",
       "    <tr>\n",
       "      <th>2011-07-01 02:00:00</th>\n",
       "    </tr>\n",
       "    <tr>\n",
       "      <th>...</th>\n",
       "    </tr>\n",
       "    <tr>\n",
       "      <th>2012-06-30 21:30:00</th>\n",
       "    </tr>\n",
       "    <tr>\n",
       "      <th>2012-06-30 22:00:00</th>\n",
       "    </tr>\n",
       "    <tr>\n",
       "      <th>2012-06-30 22:30:00</th>\n",
       "    </tr>\n",
       "    <tr>\n",
       "      <th>2012-06-30 23:00:00</th>\n",
       "    </tr>\n",
       "    <tr>\n",
       "      <th>2012-06-30 23:30:00</th>\n",
       "    </tr>\n",
       "  </tbody>\n",
       "</table>\n",
       "<p>17568 rows × 0 columns</p>\n",
       "</div>"
      ],
      "text/plain": [
       "Empty DataFrame\n",
       "Columns: []\n",
       "Index: [2011-07-01 00:00:00, 2011-07-01 00:30:00, 2011-07-01 01:00:00, 2011-07-01 01:30:00, 2011-07-01 02:00:00, 2011-07-01 02:30:00, 2011-07-01 03:00:00, 2011-07-01 03:30:00, 2011-07-01 04:00:00, 2011-07-01 04:30:00, 2011-07-01 05:00:00, 2011-07-01 05:30:00, 2011-07-01 06:00:00, 2011-07-01 06:30:00, 2011-07-01 07:00:00, 2011-07-01 07:30:00, 2011-07-01 08:00:00, 2011-07-01 08:30:00, 2011-07-01 09:00:00, 2011-07-01 09:30:00, 2011-07-01 10:00:00, 2011-07-01 10:30:00, 2011-07-01 11:00:00, 2011-07-01 11:30:00, 2011-07-01 12:00:00, 2011-07-01 12:30:00, 2011-07-01 13:00:00, 2011-07-01 13:30:00, 2011-07-01 14:00:00, 2011-07-01 14:30:00, 2011-07-01 15:00:00, 2011-07-01 15:30:00, 2011-07-01 16:00:00, 2011-07-01 16:30:00, 2011-07-01 17:00:00, 2011-07-01 17:30:00, 2011-07-01 18:00:00, 2011-07-01 18:30:00, 2011-07-01 19:00:00, 2011-07-01 19:30:00, 2011-07-01 20:00:00, 2011-07-01 20:30:00, 2011-07-01 21:00:00, 2011-07-01 21:30:00, 2011-07-01 22:00:00, 2011-07-01 22:30:00, 2011-07-01 23:00:00, 2011-07-01 23:30:00, 2011-07-02 00:00:00, 2011-07-02 00:30:00, 2011-07-02 01:00:00, 2011-07-02 01:30:00, 2011-07-02 02:00:00, 2011-07-02 02:30:00, 2011-07-02 03:00:00, 2011-07-02 03:30:00, 2011-07-02 04:00:00, 2011-07-02 04:30:00, 2011-07-02 05:00:00, 2011-07-02 05:30:00, 2011-07-02 06:00:00, 2011-07-02 06:30:00, 2011-07-02 07:00:00, 2011-07-02 07:30:00, 2011-07-02 08:00:00, 2011-07-02 08:30:00, 2011-07-02 09:00:00, 2011-07-02 09:30:00, 2011-07-02 10:00:00, 2011-07-02 10:30:00, 2011-07-02 11:00:00, 2011-07-02 11:30:00, 2011-07-02 12:00:00, 2011-07-02 12:30:00, 2011-07-02 13:00:00, 2011-07-02 13:30:00, 2011-07-02 14:00:00, 2011-07-02 14:30:00, 2011-07-02 15:00:00, 2011-07-02 15:30:00, 2011-07-02 16:00:00, 2011-07-02 16:30:00, 2011-07-02 17:00:00, 2011-07-02 17:30:00, 2011-07-02 18:00:00, 2011-07-02 18:30:00, 2011-07-02 19:00:00, 2011-07-02 19:30:00, 2011-07-02 20:00:00, 2011-07-02 20:30:00, 2011-07-02 21:00:00, 2011-07-02 21:30:00, 2011-07-02 22:00:00, 2011-07-02 22:30:00, 2011-07-02 23:00:00, 2011-07-02 23:30:00, 2011-07-03 00:00:00, 2011-07-03 00:30:00, 2011-07-03 01:00:00, 2011-07-03 01:30:00, ...]\n",
       "\n",
       "[17568 rows x 0 columns]"
      ]
     },
     "execution_count": 21,
     "metadata": {},
     "output_type": "execute_result"
    }
   ],
   "source": [
    "df = pd.DataFrame(index=index, columns=empty_cols)\n",
    "df"
   ]
  },
  {
   "cell_type": "code",
   "execution_count": 22,
   "metadata": {},
   "outputs": [
    {
     "name": "stdout",
     "output_type": "stream",
     "text": [
      "1, 2, 3, 4, 5, 6, 7, 8, 9, 10, 11, 12, 13, 14, 15, 16, 17, 18, 19, 20, 21, 22, 23, 24, 25, 26, 27, 28, 29, 30, 31, 32, 33, 34, 35, 36, 37, 38, 39, 40, 41, 42, 43, 44, 45, 46, 47, 48, 49, 50, 51, 52, 53, 54, 55, 56, 57, 58, 59, 60, 61, 62, 63, 64, 65, 66, 67, 68, 69, 70, 71, 72, 73, 74, 75, 76, 77, 78, 79, 80, 81, 82, 83, 84, 85, 86, 87, 88, 89, 90, 91, 92, 93, 94, 95, 96, 97, 98, 99, 100, 101, 102, 103, 104, 105, 106, 107, 108, 109, 110, 111, 112, 113, 114, 115, 116, 117, 118, 119, 120, 121, 122, 123, 124, 125, 126, 127, 128, 129, 130, 131, 132, 133, 134, 135, 136, 137, 138, 139, 140, 141, 142, 143, 144, 145, 146, 147, 148, 149, 150, 151, 152, 153, 154, 155, 156, 157, 158, 159, 160, 161, 162, 163, 164, 165, 166, 167, 168, 169, 170, 171, 172, 173, 174, 175, 176, 177, 178, 179, 180, 181, 182, 183, 184, 185, 186, 187, 188, 189, 190, 191, 192, 193, 194, 195, 196, 197, 198, 199, 200, 201, 202, 203, 204, 205, 206, 207, 208, 209, 210, 211, 212, 213, 214, 215, 216, 217, 218, 219, 220, 221, 222, 223, 224, 225, 226, 227, 228, 229, 230, 231, 232, 233, 234, 235, 236, 237, 238, 239, 240, 241, 242, 243, 244, 245, 246, 247, 248, 249, 250, 251, 252, 253, 254, 255, 256, 257, 258, 259, 260, 261, 262, 263, 264, 265, 266, 267, 268, 269, 270, 271, 272, 273, 274, 275, 276, 277, 278, 279, 280, 281, 282, 283, 284, 285, 286, 287, 288, 289, 290, 291, 292, 293, 294, 295, 296, 297, 298, 299, 300, "
     ]
    }
   ],
   "source": [
    "missing_records = []\n",
    "\n",
    "for c in customers:\n",
    "    d_c = d_raw[d_raw.Customer == c]\n",
    "    \n",
    "    # TODO: save the row quality\n",
    "    print(c, end=', ')\n",
    "    \n",
    "    for ch in channels:\n",
    "        d_c_ch = d_c[d_c['Consumption Category'] == ch]\n",
    "        ts = d_c_ch.iloc[:,5:-1].values.ravel()\n",
    "        if len(ts) != len(index):\n",
    "            missing_records.append((c,ch, len(ts)))\n",
    "        else:\n",
    "            df[c, ch] = ts"
   ]
  },
  {
   "cell_type": "code",
   "execution_count": 23,
   "metadata": {},
   "outputs": [
    {
     "data": {
      "text/plain": [
       "900"
      ]
     },
     "execution_count": 23,
     "metadata": {},
     "output_type": "execute_result"
    }
   ],
   "source": [
    "\n",
    "len(columns)"
   ]
  },
  {
   "cell_type": "code",
   "execution_count": 24,
   "metadata": {},
   "outputs": [
    {
     "data": {
      "text/plain": [
       "162"
      ]
     },
     "execution_count": 24,
     "metadata": {},
     "output_type": "execute_result"
    }
   ],
   "source": [
    "\n",
    "len(missing_records)"
   ]
  },
  {
   "cell_type": "code",
   "execution_count": 25,
   "metadata": {},
   "outputs": [
    {
     "data": {
      "text/plain": [
       "161"
      ]
     },
     "execution_count": 25,
     "metadata": {},
     "output_type": "execute_result"
    }
   ],
   "source": [
    "n_empty_CL = 0\n",
    "missing_records_others = []\n",
    "for (c, ch, len_ts) in missing_records:\n",
    "    if ch=='CL' and len_ts==0:\n",
    "        n_empty_CL += 1\n",
    "    else:\n",
    "        missing_records_others.append((c, ch, len_ts))\n",
    "n_empty_CL"
   ]
  },
  {
   "cell_type": "code",
   "execution_count": 26,
   "metadata": {},
   "outputs": [
    {
     "data": {
      "text/plain": [
       "[(27, 'CL', 9408)]"
      ]
     },
     "execution_count": 26,
     "metadata": {},
     "output_type": "execute_result"
    }
   ],
   "source": [
    "missing_records_others"
   ]
  },
  {
   "cell_type": "code",
   "execution_count": 27,
   "metadata": {},
   "outputs": [
    {
     "data": {
      "text/plain": [
       "24522   2011-07-01\n",
       "25107   2012-01-12\n",
       "Name: date, dtype: datetime64[ns]"
      ]
     },
     "execution_count": 27,
     "metadata": {},
     "output_type": "execute_result"
    }
   ],
   "source": [
    "d_27_CL = d_raw[(d_raw.Customer == 27) & (d_raw['Consumption Category'] == 'CL')]\n",
    "d_27_CL['date'].iloc[[0,-1]]"
   ]
  },
  {
   "cell_type": "code",
   "execution_count": 28,
   "metadata": {},
   "outputs": [
    {
     "data": {
      "text/plain": [
       "900"
      ]
     },
     "execution_count": 28,
     "metadata": {},
     "output_type": "execute_result"
    }
   ],
   "source": [
    "\n",
    "len(df.columns) + len(missing_records)"
   ]
  },
  {
   "cell_type": "code",
   "execution_count": 29,
   "metadata": {},
   "outputs": [
    {
     "data": {
      "text/html": [
       "<div>\n",
       "<style scoped>\n",
       "    .dataframe tbody tr th:only-of-type {\n",
       "        vertical-align: middle;\n",
       "    }\n",
       "\n",
       "    .dataframe tbody tr th {\n",
       "        vertical-align: top;\n",
       "    }\n",
       "\n",
       "    .dataframe thead tr th {\n",
       "        text-align: left;\n",
       "    }\n",
       "</style>\n",
       "<table border=\"1\" class=\"dataframe\">\n",
       "  <thead>\n",
       "    <tr>\n",
       "      <th>Customer</th>\n",
       "      <th colspan=\"3\" halign=\"left\">1</th>\n",
       "      <th colspan=\"3\" halign=\"left\">2</th>\n",
       "      <th colspan=\"3\" halign=\"left\">3</th>\n",
       "      <th>4</th>\n",
       "      <th>...</th>\n",
       "      <th colspan=\"3\" halign=\"left\">297</th>\n",
       "      <th colspan=\"2\" halign=\"left\">298</th>\n",
       "      <th colspan=\"2\" halign=\"left\">299</th>\n",
       "      <th colspan=\"3\" halign=\"left\">300</th>\n",
       "    </tr>\n",
       "    <tr>\n",
       "      <th>Channel</th>\n",
       "      <th>GC</th>\n",
       "      <th>GG</th>\n",
       "      <th>CL</th>\n",
       "      <th>GC</th>\n",
       "      <th>GG</th>\n",
       "      <th>CL</th>\n",
       "      <th>GC</th>\n",
       "      <th>GG</th>\n",
       "      <th>CL</th>\n",
       "      <th>GC</th>\n",
       "      <th>...</th>\n",
       "      <th>GC</th>\n",
       "      <th>GG</th>\n",
       "      <th>CL</th>\n",
       "      <th>GC</th>\n",
       "      <th>GG</th>\n",
       "      <th>GC</th>\n",
       "      <th>GG</th>\n",
       "      <th>GC</th>\n",
       "      <th>GG</th>\n",
       "      <th>CL</th>\n",
       "    </tr>\n",
       "  </thead>\n",
       "  <tbody>\n",
       "    <tr>\n",
       "      <th>2011-07-01 00:00:00</th>\n",
       "      <td>1.077</td>\n",
       "      <td>0.0</td>\n",
       "      <td>1.250</td>\n",
       "      <td>0.276</td>\n",
       "      <td>0.0</td>\n",
       "      <td>0.0</td>\n",
       "      <td>0.060</td>\n",
       "      <td>0.0</td>\n",
       "      <td>2.008</td>\n",
       "      <td>0.104</td>\n",
       "      <td>...</td>\n",
       "      <td>0.268</td>\n",
       "      <td>0.0</td>\n",
       "      <td>0.000</td>\n",
       "      <td>0.100</td>\n",
       "      <td>0.0</td>\n",
       "      <td>0.140</td>\n",
       "      <td>0.0</td>\n",
       "      <td>1.034</td>\n",
       "      <td>0.0</td>\n",
       "      <td>2.533</td>\n",
       "    </tr>\n",
       "    <tr>\n",
       "      <th>2011-07-01 00:30:00</th>\n",
       "      <td>0.669</td>\n",
       "      <td>0.0</td>\n",
       "      <td>1.250</td>\n",
       "      <td>0.134</td>\n",
       "      <td>0.0</td>\n",
       "      <td>0.0</td>\n",
       "      <td>0.062</td>\n",
       "      <td>0.0</td>\n",
       "      <td>0.218</td>\n",
       "      <td>0.107</td>\n",
       "      <td>...</td>\n",
       "      <td>0.329</td>\n",
       "      <td>0.0</td>\n",
       "      <td>0.000</td>\n",
       "      <td>0.068</td>\n",
       "      <td>0.0</td>\n",
       "      <td>0.160</td>\n",
       "      <td>0.0</td>\n",
       "      <td>0.631</td>\n",
       "      <td>0.0</td>\n",
       "      <td>0.265</td>\n",
       "    </tr>\n",
       "    <tr>\n",
       "      <th>2011-07-01 01:00:00</th>\n",
       "      <td>0.674</td>\n",
       "      <td>0.0</td>\n",
       "      <td>1.250</td>\n",
       "      <td>0.169</td>\n",
       "      <td>0.0</td>\n",
       "      <td>0.0</td>\n",
       "      <td>0.060</td>\n",
       "      <td>0.0</td>\n",
       "      <td>0.000</td>\n",
       "      <td>0.104</td>\n",
       "      <td>...</td>\n",
       "      <td>0.306</td>\n",
       "      <td>0.0</td>\n",
       "      <td>0.000</td>\n",
       "      <td>0.068</td>\n",
       "      <td>0.0</td>\n",
       "      <td>0.116</td>\n",
       "      <td>0.0</td>\n",
       "      <td>0.119</td>\n",
       "      <td>0.0</td>\n",
       "      <td>0.000</td>\n",
       "    </tr>\n",
       "    <tr>\n",
       "      <th>2011-07-01 01:30:00</th>\n",
       "      <td>0.615</td>\n",
       "      <td>0.0</td>\n",
       "      <td>0.625</td>\n",
       "      <td>0.185</td>\n",
       "      <td>0.0</td>\n",
       "      <td>0.0</td>\n",
       "      <td>0.059</td>\n",
       "      <td>0.0</td>\n",
       "      <td>0.000</td>\n",
       "      <td>0.108</td>\n",
       "      <td>...</td>\n",
       "      <td>0.233</td>\n",
       "      <td>0.0</td>\n",
       "      <td>1.311</td>\n",
       "      <td>0.068</td>\n",
       "      <td>0.0</td>\n",
       "      <td>0.162</td>\n",
       "      <td>0.0</td>\n",
       "      <td>0.098</td>\n",
       "      <td>0.0</td>\n",
       "      <td>0.000</td>\n",
       "    </tr>\n",
       "    <tr>\n",
       "      <th>2011-07-01 02:00:00</th>\n",
       "      <td>0.321</td>\n",
       "      <td>0.0</td>\n",
       "      <td>0.219</td>\n",
       "      <td>0.141</td>\n",
       "      <td>0.0</td>\n",
       "      <td>0.0</td>\n",
       "      <td>0.060</td>\n",
       "      <td>0.0</td>\n",
       "      <td>0.000</td>\n",
       "      <td>0.110</td>\n",
       "      <td>...</td>\n",
       "      <td>0.265</td>\n",
       "      <td>0.0</td>\n",
       "      <td>0.000</td>\n",
       "      <td>0.069</td>\n",
       "      <td>0.0</td>\n",
       "      <td>0.138</td>\n",
       "      <td>0.0</td>\n",
       "      <td>0.109</td>\n",
       "      <td>0.0</td>\n",
       "      <td>0.000</td>\n",
       "    </tr>\n",
       "  </tbody>\n",
       "</table>\n",
       "<p>5 rows × 738 columns</p>\n",
       "</div>"
      ],
      "text/plain": [
       "Customer               1                  2                3                \\\n",
       "Channel                 GC   GG     CL     GC   GG   CL     GC   GG     CL   \n",
       "2011-07-01 00:00:00  1.077  0.0  1.250  0.276  0.0  0.0  0.060  0.0  2.008   \n",
       "2011-07-01 00:30:00  0.669  0.0  1.250  0.134  0.0  0.0  0.062  0.0  0.218   \n",
       "2011-07-01 01:00:00  0.674  0.0  1.250  0.169  0.0  0.0  0.060  0.0  0.000   \n",
       "2011-07-01 01:30:00  0.615  0.0  0.625  0.185  0.0  0.0  0.059  0.0  0.000   \n",
       "2011-07-01 02:00:00  0.321  0.0  0.219  0.141  0.0  0.0  0.060  0.0  0.000   \n",
       "\n",
       "Customer               4    ...    297                298         299       \\\n",
       "Channel                 GC  ...     GC   GG     CL     GC   GG     GC   GG   \n",
       "2011-07-01 00:00:00  0.104  ...  0.268  0.0  0.000  0.100  0.0  0.140  0.0   \n",
       "2011-07-01 00:30:00  0.107  ...  0.329  0.0  0.000  0.068  0.0  0.160  0.0   \n",
       "2011-07-01 01:00:00  0.104  ...  0.306  0.0  0.000  0.068  0.0  0.116  0.0   \n",
       "2011-07-01 01:30:00  0.108  ...  0.233  0.0  1.311  0.068  0.0  0.162  0.0   \n",
       "2011-07-01 02:00:00  0.110  ...  0.265  0.0  0.000  0.069  0.0  0.138  0.0   \n",
       "\n",
       "Customer               300              \n",
       "Channel                 GC   GG     CL  \n",
       "2011-07-01 00:00:00  1.034  0.0  2.533  \n",
       "2011-07-01 00:30:00  0.631  0.0  0.265  \n",
       "2011-07-01 01:00:00  0.119  0.0  0.000  \n",
       "2011-07-01 01:30:00  0.098  0.0  0.000  \n",
       "2011-07-01 02:00:00  0.109  0.0  0.000  \n",
       "\n",
       "[5 rows x 738 columns]"
      ]
     },
     "execution_count": 29,
     "metadata": {},
     "output_type": "execute_result"
    }
   ],
   "source": [
    "df.head()"
   ]
  },
  {
   "cell_type": "code",
   "execution_count": 30,
   "metadata": {},
   "outputs": [
    {
     "data": {
      "text/html": [
       "<div>\n",
       "<style scoped>\n",
       "    .dataframe tbody tr th:only-of-type {\n",
       "        vertical-align: middle;\n",
       "    }\n",
       "\n",
       "    .dataframe tbody tr th {\n",
       "        vertical-align: top;\n",
       "    }\n",
       "\n",
       "    .dataframe thead tr th {\n",
       "        text-align: left;\n",
       "    }\n",
       "</style>\n",
       "<table border=\"1\" class=\"dataframe\">\n",
       "  <thead>\n",
       "    <tr>\n",
       "      <th>Customer</th>\n",
       "      <th colspan=\"3\" halign=\"left\">1</th>\n",
       "      <th colspan=\"3\" halign=\"left\">2</th>\n",
       "      <th colspan=\"3\" halign=\"left\">3</th>\n",
       "      <th>4</th>\n",
       "      <th>...</th>\n",
       "      <th colspan=\"3\" halign=\"left\">297</th>\n",
       "      <th colspan=\"2\" halign=\"left\">298</th>\n",
       "      <th colspan=\"2\" halign=\"left\">299</th>\n",
       "      <th colspan=\"3\" halign=\"left\">300</th>\n",
       "    </tr>\n",
       "    <tr>\n",
       "      <th>Channel</th>\n",
       "      <th>GC</th>\n",
       "      <th>GG</th>\n",
       "      <th>CL</th>\n",
       "      <th>GC</th>\n",
       "      <th>GG</th>\n",
       "      <th>CL</th>\n",
       "      <th>GC</th>\n",
       "      <th>GG</th>\n",
       "      <th>CL</th>\n",
       "      <th>GC</th>\n",
       "      <th>...</th>\n",
       "      <th>GC</th>\n",
       "      <th>GG</th>\n",
       "      <th>CL</th>\n",
       "      <th>GC</th>\n",
       "      <th>GG</th>\n",
       "      <th>GC</th>\n",
       "      <th>GG</th>\n",
       "      <th>GC</th>\n",
       "      <th>GG</th>\n",
       "      <th>CL</th>\n",
       "    </tr>\n",
       "  </thead>\n",
       "  <tbody>\n",
       "    <tr>\n",
       "      <th>2012-06-30 21:30:00</th>\n",
       "      <td>0.622</td>\n",
       "      <td>0.0</td>\n",
       "      <td>0.000</td>\n",
       "      <td>0.368</td>\n",
       "      <td>0.0</td>\n",
       "      <td>0.0</td>\n",
       "      <td>0.066</td>\n",
       "      <td>0.000</td>\n",
       "      <td>0.0</td>\n",
       "      <td>0.159</td>\n",
       "      <td>...</td>\n",
       "      <td>0.366</td>\n",
       "      <td>0.0</td>\n",
       "      <td>0.000</td>\n",
       "      <td>0.173</td>\n",
       "      <td>0.0</td>\n",
       "      <td>1.095</td>\n",
       "      <td>0.0</td>\n",
       "      <td>0.200</td>\n",
       "      <td>0.0</td>\n",
       "      <td>0.000</td>\n",
       "    </tr>\n",
       "    <tr>\n",
       "      <th>2012-06-30 22:00:00</th>\n",
       "      <td>0.509</td>\n",
       "      <td>0.0</td>\n",
       "      <td>0.000</td>\n",
       "      <td>0.305</td>\n",
       "      <td>0.0</td>\n",
       "      <td>0.0</td>\n",
       "      <td>0.768</td>\n",
       "      <td>0.000</td>\n",
       "      <td>0.0</td>\n",
       "      <td>0.134</td>\n",
       "      <td>...</td>\n",
       "      <td>0.458</td>\n",
       "      <td>0.0</td>\n",
       "      <td>0.814</td>\n",
       "      <td>0.154</td>\n",
       "      <td>0.0</td>\n",
       "      <td>0.946</td>\n",
       "      <td>0.0</td>\n",
       "      <td>0.204</td>\n",
       "      <td>0.0</td>\n",
       "      <td>0.000</td>\n",
       "    </tr>\n",
       "    <tr>\n",
       "      <th>2012-06-30 22:30:00</th>\n",
       "      <td>0.716</td>\n",
       "      <td>0.0</td>\n",
       "      <td>0.000</td>\n",
       "      <td>0.285</td>\n",
       "      <td>0.0</td>\n",
       "      <td>0.0</td>\n",
       "      <td>0.966</td>\n",
       "      <td>0.000</td>\n",
       "      <td>0.0</td>\n",
       "      <td>0.101</td>\n",
       "      <td>...</td>\n",
       "      <td>0.305</td>\n",
       "      <td>0.0</td>\n",
       "      <td>2.369</td>\n",
       "      <td>0.150</td>\n",
       "      <td>0.0</td>\n",
       "      <td>1.834</td>\n",
       "      <td>0.0</td>\n",
       "      <td>0.131</td>\n",
       "      <td>0.0</td>\n",
       "      <td>0.000</td>\n",
       "    </tr>\n",
       "    <tr>\n",
       "      <th>2012-06-30 23:00:00</th>\n",
       "      <td>0.999</td>\n",
       "      <td>0.0</td>\n",
       "      <td>0.000</td>\n",
       "      <td>0.286</td>\n",
       "      <td>0.0</td>\n",
       "      <td>0.0</td>\n",
       "      <td>0.957</td>\n",
       "      <td>0.006</td>\n",
       "      <td>0.0</td>\n",
       "      <td>0.086</td>\n",
       "      <td>...</td>\n",
       "      <td>0.165</td>\n",
       "      <td>0.0</td>\n",
       "      <td>1.915</td>\n",
       "      <td>0.142</td>\n",
       "      <td>0.0</td>\n",
       "      <td>1.719</td>\n",
       "      <td>0.0</td>\n",
       "      <td>0.358</td>\n",
       "      <td>0.0</td>\n",
       "      <td>0.000</td>\n",
       "    </tr>\n",
       "    <tr>\n",
       "      <th>2012-06-30 23:30:00</th>\n",
       "      <td>0.916</td>\n",
       "      <td>0.0</td>\n",
       "      <td>1.063</td>\n",
       "      <td>0.188</td>\n",
       "      <td>0.0</td>\n",
       "      <td>0.0</td>\n",
       "      <td>0.902</td>\n",
       "      <td>0.000</td>\n",
       "      <td>0.0</td>\n",
       "      <td>0.082</td>\n",
       "      <td>...</td>\n",
       "      <td>0.206</td>\n",
       "      <td>0.0</td>\n",
       "      <td>0.000</td>\n",
       "      <td>0.145</td>\n",
       "      <td>0.0</td>\n",
       "      <td>1.412</td>\n",
       "      <td>0.0</td>\n",
       "      <td>0.235</td>\n",
       "      <td>0.0</td>\n",
       "      <td>2.621</td>\n",
       "    </tr>\n",
       "  </tbody>\n",
       "</table>\n",
       "<p>5 rows × 738 columns</p>\n",
       "</div>"
      ],
      "text/plain": [
       "Customer               1                  2                3                \\\n",
       "Channel                 GC   GG     CL     GC   GG   CL     GC     GG   CL   \n",
       "2012-06-30 21:30:00  0.622  0.0  0.000  0.368  0.0  0.0  0.066  0.000  0.0   \n",
       "2012-06-30 22:00:00  0.509  0.0  0.000  0.305  0.0  0.0  0.768  0.000  0.0   \n",
       "2012-06-30 22:30:00  0.716  0.0  0.000  0.285  0.0  0.0  0.966  0.000  0.0   \n",
       "2012-06-30 23:00:00  0.999  0.0  0.000  0.286  0.0  0.0  0.957  0.006  0.0   \n",
       "2012-06-30 23:30:00  0.916  0.0  1.063  0.188  0.0  0.0  0.902  0.000  0.0   \n",
       "\n",
       "Customer               4    ...    297                298         299       \\\n",
       "Channel                 GC  ...     GC   GG     CL     GC   GG     GC   GG   \n",
       "2012-06-30 21:30:00  0.159  ...  0.366  0.0  0.000  0.173  0.0  1.095  0.0   \n",
       "2012-06-30 22:00:00  0.134  ...  0.458  0.0  0.814  0.154  0.0  0.946  0.0   \n",
       "2012-06-30 22:30:00  0.101  ...  0.305  0.0  2.369  0.150  0.0  1.834  0.0   \n",
       "2012-06-30 23:00:00  0.086  ...  0.165  0.0  1.915  0.142  0.0  1.719  0.0   \n",
       "2012-06-30 23:30:00  0.082  ...  0.206  0.0  0.000  0.145  0.0  1.412  0.0   \n",
       "\n",
       "Customer               300              \n",
       "Channel                 GC   GG     CL  \n",
       "2012-06-30 21:30:00  0.200  0.0  0.000  \n",
       "2012-06-30 22:00:00  0.204  0.0  0.000  \n",
       "2012-06-30 22:30:00  0.131  0.0  0.000  \n",
       "2012-06-30 23:00:00  0.358  0.0  0.000  \n",
       "2012-06-30 23:30:00  0.235  0.0  2.621  \n",
       "\n",
       "[5 rows x 738 columns]"
      ]
     },
     "execution_count": 30,
     "metadata": {},
     "output_type": "execute_result"
    }
   ],
   "source": [
    "df.tail()"
   ]
  },
  {
   "cell_type": "code",
   "execution_count": 31,
   "metadata": {},
   "outputs": [
    {
     "data": {
      "text/plain": [
       "Channel\n",
       "GC    0.292210\n",
       "GG    0.269105\n",
       "CL    0.146694\n",
       "dtype: float64"
      ]
     },
     "execution_count": 31,
     "metadata": {},
     "output_type": "execute_result"
    }
   ],
   "source": [
    "df[1].mean()"
   ]
  },
  {
   "cell_type": "code",
   "execution_count": 295,
   "metadata": {},
   "outputs": [],
   "source": [
    "df *= 2"
   ]
  },
  {
   "cell_type": "code",
   "execution_count": 296,
   "metadata": {},
   "outputs": [
    {
     "data": {
      "text/plain": [
       "Channel\n",
       "GC    0.584421\n",
       "GG    0.538209\n",
       "CL    0.293388\n",
       "dtype: float64"
      ]
     },
     "execution_count": 296,
     "metadata": {},
     "output_type": "execute_result"
    }
   ],
   "source": [
    "df[1].mean()"
   ]
  },
  {
   "cell_type": "code",
   "execution_count": 297,
   "metadata": {},
   "outputs": [
    {
     "data": {
      "text/html": [
       "<div>\n",
       "<style scoped>\n",
       "    .dataframe tbody tr th:only-of-type {\n",
       "        vertical-align: middle;\n",
       "    }\n",
       "\n",
       "    .dataframe tbody tr th {\n",
       "        vertical-align: top;\n",
       "    }\n",
       "\n",
       "    .dataframe thead th {\n",
       "        text-align: right;\n",
       "    }\n",
       "</style>\n",
       "<table border=\"1\" class=\"dataframe\">\n",
       "  <thead>\n",
       "    <tr style=\"text-align: right;\">\n",
       "      <th>Channel</th>\n",
       "      <th>GC</th>\n",
       "      <th>GG</th>\n",
       "      <th>CL</th>\n",
       "    </tr>\n",
       "  </thead>\n",
       "  <tbody>\n",
       "    <tr>\n",
       "      <th>2011-07-01 00:00:00</th>\n",
       "      <td>2.154</td>\n",
       "      <td>0.0</td>\n",
       "      <td>2.500</td>\n",
       "    </tr>\n",
       "    <tr>\n",
       "      <th>2011-07-01 00:30:00</th>\n",
       "      <td>1.338</td>\n",
       "      <td>0.0</td>\n",
       "      <td>2.500</td>\n",
       "    </tr>\n",
       "    <tr>\n",
       "      <th>2011-07-01 01:00:00</th>\n",
       "      <td>1.348</td>\n",
       "      <td>0.0</td>\n",
       "      <td>2.500</td>\n",
       "    </tr>\n",
       "    <tr>\n",
       "      <th>2011-07-01 01:30:00</th>\n",
       "      <td>1.230</td>\n",
       "      <td>0.0</td>\n",
       "      <td>1.250</td>\n",
       "    </tr>\n",
       "    <tr>\n",
       "      <th>2011-07-01 02:00:00</th>\n",
       "      <td>0.642</td>\n",
       "      <td>0.0</td>\n",
       "      <td>0.438</td>\n",
       "    </tr>\n",
       "    <tr>\n",
       "      <th>...</th>\n",
       "      <td>...</td>\n",
       "      <td>...</td>\n",
       "      <td>...</td>\n",
       "    </tr>\n",
       "    <tr>\n",
       "      <th>2012-06-30 21:30:00</th>\n",
       "      <td>1.244</td>\n",
       "      <td>0.0</td>\n",
       "      <td>0.000</td>\n",
       "    </tr>\n",
       "    <tr>\n",
       "      <th>2012-06-30 22:00:00</th>\n",
       "      <td>1.018</td>\n",
       "      <td>0.0</td>\n",
       "      <td>0.000</td>\n",
       "    </tr>\n",
       "    <tr>\n",
       "      <th>2012-06-30 22:30:00</th>\n",
       "      <td>1.432</td>\n",
       "      <td>0.0</td>\n",
       "      <td>0.000</td>\n",
       "    </tr>\n",
       "    <tr>\n",
       "      <th>2012-06-30 23:00:00</th>\n",
       "      <td>1.998</td>\n",
       "      <td>0.0</td>\n",
       "      <td>0.000</td>\n",
       "    </tr>\n",
       "    <tr>\n",
       "      <th>2012-06-30 23:30:00</th>\n",
       "      <td>1.832</td>\n",
       "      <td>0.0</td>\n",
       "      <td>2.126</td>\n",
       "    </tr>\n",
       "  </tbody>\n",
       "</table>\n",
       "<p>17568 rows × 3 columns</p>\n",
       "</div>"
      ],
      "text/plain": [
       "Channel                 GC   GG     CL\n",
       "2011-07-01 00:00:00  2.154  0.0  2.500\n",
       "2011-07-01 00:30:00  1.338  0.0  2.500\n",
       "2011-07-01 01:00:00  1.348  0.0  2.500\n",
       "2011-07-01 01:30:00  1.230  0.0  1.250\n",
       "2011-07-01 02:00:00  0.642  0.0  0.438\n",
       "...                    ...  ...    ...\n",
       "2012-06-30 21:30:00  1.244  0.0  0.000\n",
       "2012-06-30 22:00:00  1.018  0.0  0.000\n",
       "2012-06-30 22:30:00  1.432  0.0  0.000\n",
       "2012-06-30 23:00:00  1.998  0.0  0.000\n",
       "2012-06-30 23:30:00  1.832  0.0  2.126\n",
       "\n",
       "[17568 rows x 3 columns]"
      ]
     },
     "execution_count": 297,
     "metadata": {},
     "output_type": "execute_result"
    }
   ],
   "source": [
    "df[1]"
   ]
  },
  {
   "cell_type": "code",
   "execution_count": 298,
   "metadata": {},
   "outputs": [
    {
     "data": {
      "text/plain": [
       "Channel\n",
       "GC    0.584421\n",
       "GG    0.538209\n",
       "CL    0.293388\n",
       "dtype: float64"
      ]
     },
     "execution_count": 298,
     "metadata": {},
     "output_type": "execute_result"
    }
   ],
   "source": [
    "df[1].mean()"
   ]
  },
  {
   "cell_type": "code",
   "execution_count": 299,
   "metadata": {},
   "outputs": [
    {
     "data": {
      "image/png": "[encoded data removed]",
      "text/plain": [
       "<Figure size 432x288 with 1 Axes>"
      ]
     },
     "metadata": {
      "needs_background": "light"
     },
     "output_type": "display_data"
    }
   ],
   "source": [
    "df[1]['GC']['2011-07-01':'2011-07-03'].plot()\n",
    "plt.title('Customer 1 in July')\n",
    "plt.ylabel('kW')\n",
    "plt.savefig('Customer 1 2011-07 01-03.png', dpi=150);"
   ]
  },
  {
   "cell_type": "code",
   "execution_count": 300,
   "metadata": {},
   "outputs": [
    {
     "data": {
      "image/png": "[encoded data removed]",
      "text/plain": [
       "<Figure size 432x288 with 1 Axes>"
      ]
     },
     "metadata": {
      "needs_background": "light"
     },
     "output_type": "display_data"
    }
   ],
   "source": [
    "df[1]['GG']['2011-07-01':'2011-07-03'].plot()\n",
    "plt.title('Customer 1 in July')\n",
    "plt.ylabel('kW')\n",
    "plt.savefig('Customer 1 2011-07 01-03.png', dpi=150);"
   ]
  },
  {
   "cell_type": "code",
   "execution_count": 301,
   "metadata": {},
   "outputs": [],
   "source": [
    "DS =df[1]['GC'] - df[1]['GG'] "
   ]
  },
  {
   "cell_type": "code",
   "execution_count": 302,
   "metadata": {},
   "outputs": [
    {
     "data": {
      "image/png": "[encoded data removed]",
      "text/plain": [
       "<Figure size 432x288 with 1 Axes>"
      ]
     },
     "metadata": {
      "needs_background": "light"
     },
     "output_type": "display_data"
    }
   ],
   "source": [
    "DS['2011-07-01':'2011-07-03'].plot()\n",
    "plt.title('Customer 1 in July')\n",
    "plt.ylabel('kW')\n",
    "plt.savefig('Customer 1 2011-07 01-03.png', dpi=150);"
   ]
  },
  {
   "cell_type": "code",
   "execution_count": 303,
   "metadata": {},
   "outputs": [
    {
     "data": {
      "text/plain": [
       "<AxesSubplot:>"
      ]
     },
     "execution_count": 303,
     "metadata": {},
     "output_type": "execute_result"
    },
    {
     "data": {
      "image/png": "[encoded data removed]",
      "text/plain": [
       "<Figure size 432x288 with 1 Axes>"
      ]
     },
     "metadata": {
      "needs_background": "light"
     },
     "output_type": "display_data"
    }
   ],
   "source": [
    "df[1]['GG']['2011-07-01':'2011-08-01'].plot()\n"
   ]
  },
  {
   "cell_type": "code",
   "execution_count": 304,
   "metadata": {},
   "outputs": [
    {
     "data": {
      "text/plain": [
       "2011-07-01 00:00:00    2.154\n",
       "2011-07-01 00:30:00    1.338\n",
       "2011-07-01 01:00:00    1.348\n",
       "2011-07-01 01:30:00    1.230\n",
       "2011-07-01 02:00:00    0.642\n",
       "                       ...  \n",
       "2012-06-30 21:30:00    1.244\n",
       "2012-06-30 22:00:00    1.018\n",
       "2012-06-30 22:30:00    1.432\n",
       "2012-06-30 23:00:00    1.998\n",
       "2012-06-30 23:30:00    1.832\n",
       "Freq: 30T, Name: GC, Length: 17568, dtype: float64"
      ]
     },
     "execution_count": 304,
     "metadata": {},
     "output_type": "execute_result"
    }
   ],
   "source": [
    "df1 = df[1]['GC']\n",
    "df1"
   ]
  },
  {
   "cell_type": "code",
   "execution_count": 305,
   "metadata": {},
   "outputs": [],
   "source": [
    "import numpy as np\n",
    "from sklearn.preprocessing import MinMaxScaler\n",
    "scaler=MinMaxScaler(feature_range=(0,1))\n",
    "df1=scaler.fit_transform(np.array(df1).reshape(-1,1))"
   ]
  },
  {
   "cell_type": "code",
   "execution_count": 306,
   "metadata": {},
   "outputs": [
    {
     "name": "stdout",
     "output_type": "stream",
     "text": [
      "[[0.44540943]\n",
      " [0.27667494]\n",
      " [0.27874276]\n",
      " ...\n",
      " [0.29611249]\n",
      " [0.41315136]\n",
      " [0.37882548]]\n"
     ]
    }
   ],
   "source": [
    "\n",
    "print(df1)\n"
   ]
  },
  {
   "cell_type": "code",
   "execution_count": 307,
   "metadata": {},
   "outputs": [
    {
     "data": {
      "text/plain": [
       "17568"
      ]
     },
     "execution_count": 307,
     "metadata": {},
     "output_type": "execute_result"
    }
   ],
   "source": [
    "len(df1)"
   ]
  },
  {
   "cell_type": "code",
   "execution_count": 308,
   "metadata": {},
   "outputs": [],
   "source": [
    "\n",
    "##splitting dataset into train and test split\n",
    "training_size=int(len(df1)*0.65)\n",
    "test_size=len(df1)-training_size\n",
    "train_data,test_data=df1[0:training_size,:],df1[training_size:len(df1),:1]"
   ]
  },
  {
   "cell_type": "code",
   "execution_count": 309,
   "metadata": {},
   "outputs": [
    {
     "data": {
      "text/plain": [
       "(11419, 6149)"
      ]
     },
     "execution_count": 309,
     "metadata": {},
     "output_type": "execute_result"
    }
   ],
   "source": [
    "training_size,test_size"
   ]
  },
  {
   "cell_type": "code",
   "execution_count": 310,
   "metadata": {},
   "outputs": [
    {
     "data": {
      "text/plain": [
       "array([[0.44540943],\n",
       "       [0.27667494],\n",
       "       [0.27874276],\n",
       "       ...,\n",
       "       [0.14102564],\n",
       "       [0.10421836],\n",
       "       [0.12903226]])"
      ]
     },
     "execution_count": 310,
     "metadata": {},
     "output_type": "execute_result"
    }
   ],
   "source": [
    "train_data"
   ]
  },
  {
   "cell_type": "code",
   "execution_count": 311,
   "metadata": {},
   "outputs": [],
   "source": [
    "import numpy\n",
    "# convert an array of values into a dataset matrix\n",
    "def create_dataset(dataset, time_step=1):\n",
    "\tdataX, dataY = [], []\n",
    "\tfor i in range(len(dataset)-time_step-1):\n",
    "\t\ta = dataset[i:(i+time_step), 0]   ###i=0, 0,1,2,3-----99   100 \n",
    "\t\tdataX.append(a)\n",
    "\t\tdataY.append(dataset[i + time_step, 0])\n",
    "\treturn numpy.array(dataX), numpy.array(dataY)"
   ]
  },
  {
   "cell_type": "code",
   "execution_count": 312,
   "metadata": {},
   "outputs": [],
   "source": [
    "\n",
    "# reshape into X=t,t+1,t+2,t+3 and Y=t+4\n",
    "time_step = 100\n",
    "X_train, y_train = create_dataset(train_data, time_step)\n",
    "X_test, ytest = create_dataset(test_data, time_step)\n"
   ]
  },
  {
   "cell_type": "code",
   "execution_count": 313,
   "metadata": {},
   "outputs": [
    {
     "name": "stdout",
     "output_type": "stream",
     "text": [
      "(11318, 100)\n",
      "(11318,)\n"
     ]
    },
    {
     "data": {
      "text/plain": [
       "(None, None)"
      ]
     },
     "execution_count": 313,
     "metadata": {},
     "output_type": "execute_result"
    }
   ],
   "source": [
    "print(X_train.shape), print(y_train.shape)"
   ]
  },
  {
   "cell_type": "code",
   "execution_count": 314,
   "metadata": {},
   "outputs": [
    {
     "name": "stdout",
     "output_type": "stream",
     "text": [
      "(6048, 100)\n",
      "(6048,)\n"
     ]
    },
    {
     "data": {
      "text/plain": [
       "(None, None)"
      ]
     },
     "execution_count": 314,
     "metadata": {},
     "output_type": "execute_result"
    }
   ],
   "source": [
    "print(X_test.shape), print(ytest.shape)"
   ]
  },
  {
   "cell_type": "code",
   "execution_count": 315,
   "metadata": {},
   "outputs": [],
   "source": [
    "# reshape input to be [samples, time steps, features] which is required for LSTM\n",
    "X_train =X_train.reshape(X_train.shape[0],X_train.shape[1] , 1)\n",
    "X_test = X_test.reshape(X_test.shape[0],X_test.shape[1] , 1)"
   ]
  },
  {
   "cell_type": "code",
   "execution_count": 316,
   "metadata": {},
   "outputs": [],
   "source": [
    "### Create the Stacked LSTM model\n",
    "from tensorflow.keras.models import Sequential\n",
    "from tensorflow.keras.layers import Dense\n",
    "from tensorflow.keras.layers import LSTM"
   ]
  },
  {
   "cell_type": "code",
   "execution_count": 317,
   "metadata": {},
   "outputs": [],
   "source": [
    "\n",
    "model=Sequential()\n",
    "model.add(LSTM(50,return_sequences=True,input_shape=(100,1)))\n",
    "model.add(LSTM(50,return_sequences=True))\n",
    "model.add(LSTM(50))\n",
    "model.add(Dense(1))\n",
    "model.compile(loss='mean_squared_error',optimizer='adam')"
   ]
  },
  {
   "cell_type": "code",
   "execution_count": 318,
   "metadata": {},
   "outputs": [
    {
     "name": "stdout",
     "output_type": "stream",
     "text": [
      "Model: \"sequential_1\"\n",
      "_________________________________________________________________\n",
      "Layer (type)                 Output Shape              Param #   \n",
      "=================================================================\n",
      "lstm_3 (LSTM)                (None, 100, 50)           10400     \n",
      "_________________________________________________________________\n",
      "lstm_4 (LSTM)                (None, 100, 50)           20200     \n",
      "_________________________________________________________________\n",
      "lstm_5 (LSTM)                (None, 50)                20200     \n",
      "_________________________________________________________________\n",
      "dense_1 (Dense)              (None, 1)                 51        \n",
      "=================================================================\n",
      "Total params: 50,851\n",
      "Trainable params: 50,851\n",
      "Non-trainable params: 0\n",
      "_________________________________________________________________\n"
     ]
    }
   ],
   "source": [
    "\n",
    "model.summary()"
   ]
  },
  {
   "cell_type": "code",
   "execution_count": 319,
   "metadata": {},
   "outputs": [
    {
     "name": "stdout",
     "output_type": "stream",
     "text": [
      "Epoch 1/20\n",
      "177/177 [==============================] - 39s 167ms/step - loss: 0.0120 - val_loss: 0.0147\n",
      "Epoch 2/20\n",
      "177/177 [==============================] - 28s 161ms/step - loss: 0.0110 - val_loss: 0.0131\n",
      "Epoch 3/20\n",
      "177/177 [==============================] - 29s 164ms/step - loss: 0.0098 - val_loss: 0.0123\n",
      "Epoch 4/20\n",
      "177/177 [==============================] - 29s 163ms/step - loss: 0.0096 - val_loss: 0.0124\n",
      "Epoch 5/20\n",
      "177/177 [==============================] - 28s 160ms/step - loss: 0.0096 - val_loss: 0.0122\n",
      "Epoch 6/20\n",
      "177/177 [==============================] - 28s 159ms/step - loss: 0.0096 - val_loss: 0.0122\n",
      "Epoch 7/20\n",
      "177/177 [==============================] - 27s 155ms/step - loss: 0.0095 - val_loss: 0.0121\n",
      "Epoch 8/20\n",
      "177/177 [==============================] - 27s 155ms/step - loss: 0.0096 - val_loss: 0.0125\n",
      "Epoch 9/20\n",
      "177/177 [==============================] - 28s 159ms/step - loss: 0.0095 - val_loss: 0.0123\n",
      "Epoch 10/20\n",
      "177/177 [==============================] - 30s 170ms/step - loss: 0.0095 - val_loss: 0.0123\n",
      "Epoch 11/20\n",
      "177/177 [==============================] - 28s 159ms/step - loss: 0.0095 - val_loss: 0.0127\n",
      "Epoch 12/20\n",
      "177/177 [==============================] - 29s 166ms/step - loss: 0.0094 - val_loss: 0.0122\n",
      "Epoch 13/20\n",
      "177/177 [==============================] - 29s 165ms/step - loss: 0.0094 - val_loss: 0.0123\n",
      "Epoch 14/20\n",
      "177/177 [==============================] - 30s 169ms/step - loss: 0.0093 - val_loss: 0.0121\n",
      "Epoch 15/20\n",
      "177/177 [==============================] - 31s 173ms/step - loss: 0.0092 - val_loss: 0.0124\n",
      "Epoch 16/20\n",
      "177/177 [==============================] - 28s 158ms/step - loss: 0.0092 - val_loss: 0.0121\n",
      "Epoch 17/20\n",
      "177/177 [==============================] - 30s 172ms/step - loss: 0.0092 - val_loss: 0.0123\n",
      "Epoch 18/20\n",
      "177/177 [==============================] - 30s 170ms/step - loss: 0.0091 - val_loss: 0.0120\n",
      "Epoch 19/20\n",
      "177/177 [==============================] - 29s 165ms/step - loss: 0.0089 - val_loss: 0.0119\n",
      "Epoch 20/20\n",
      "177/177 [==============================] - 34s 193ms/step - loss: 0.0086 - val_loss: 0.0120\n"
     ]
    },
    {
     "data": {
      "text/plain": [
       "<tensorflow.python.keras.callbacks.History at 0x21614617d30>"
      ]
     },
     "execution_count": 319,
     "metadata": {},
     "output_type": "execute_result"
    }
   ],
   "source": [
    "model.fit(X_train,y_train,validation_data=(X_test,ytest),epochs=20,batch_size=64,verbose=1)"
   ]
  },
  {
   "cell_type": "code",
   "execution_count": 320,
   "metadata": {},
   "outputs": [],
   "source": [
    "import tensorflow as tf"
   ]
  },
  {
   "cell_type": "code",
   "execution_count": 321,
   "metadata": {},
   "outputs": [],
   "source": [
    "### Lets Do the prediction and check performance metrics\n",
    "train_predict=model.predict(X_train)\n",
    "test_predict=model.predict(X_test)"
   ]
  },
  {
   "cell_type": "code",
   "execution_count": 322,
   "metadata": {},
   "outputs": [],
   "source": [
    "\n",
    "##Transformback to original form\n",
    "train_predict=scaler.inverse_transform(train_predict)\n",
    "test_predict=scaler.inverse_transform(test_predict)"
   ]
  },
  {
   "cell_type": "code",
   "execution_count": 323,
   "metadata": {},
   "outputs": [
    {
     "data": {
      "text/plain": [
       "0.5227165627319879"
      ]
     },
     "execution_count": 323,
     "metadata": {},
     "output_type": "execute_result"
    }
   ],
   "source": [
    "### Calculate RMSE performance metrics\n",
    "import math\n",
    "from sklearn.metrics import mean_squared_error\n",
    "math.sqrt(mean_squared_error(y_train,train_predict))### Test Data RMSE\n",
    "math.sqrt(mean_squared_error(ytest,test_predict))"
   ]
  },
  {
   "cell_type": "code",
   "execution_count": 324,
   "metadata": {},
   "outputs": [
    {
     "data": {
      "text/plain": [
       "0.5227165627319879"
      ]
     },
     "execution_count": 324,
     "metadata": {},
     "output_type": "execute_result"
    }
   ],
   "source": [
    "### Test Data RMSE\n",
    "math.sqrt(mean_squared_error(ytest,test_predict))"
   ]
  },
  {
   "cell_type": "code",
   "execution_count": 325,
   "metadata": {},
   "outputs": [
    {
     "data": {
      "image/png": "[encoded data removed]",
      "text/plain": [
       "<Figure size 432x288 with 1 Axes>"
      ]
     },
     "metadata": {
      "needs_background": "light"
     },
     "output_type": "display_data"
    }
   ],
   "source": [
    "### Plotting \n",
    "# shift train predictions for plotting\n",
    "look_back=100\n",
    "trainPredictPlot = numpy.empty_like(df1)\n",
    "trainPredictPlot[:, :] = np.nan\n",
    "trainPredictPlot[look_back:len(train_predict)+look_back, :] = train_predict\n",
    "# shift test predictions for plotting\n",
    "testPredictPlot = numpy.empty_like(df1)\n",
    "testPredictPlot[:, :] = numpy.nan\n",
    "testPredictPlot[len(train_predict)+(look_back*2)+1:len(df1)-1, :] = test_predict\n",
    "# plot baseline and predictions\n",
    "plt.plot(scaler.inverse_transform(df1))\n",
    "plt.plot(trainPredictPlot)\n",
    "plt.plot(testPredictPlot)\n",
    "plt.show()"
   ]
  },
  {
   "cell_type": "code",
   "execution_count": 326,
   "metadata": {},
   "outputs": [
    {
     "data": {
      "text/plain": [
       "6149"
      ]
     },
     "execution_count": 326,
     "metadata": {},
     "output_type": "execute_result"
    }
   ],
   "source": [
    "len(test_data)"
   ]
  },
  {
   "cell_type": "code",
   "execution_count": 327,
   "metadata": {},
   "outputs": [
    {
     "data": {
      "text/plain": [
       "(1, 100)"
      ]
     },
     "execution_count": 327,
     "metadata": {},
     "output_type": "execute_result"
    }
   ],
   "source": [
    "x_input=test_data[6049:].reshape(1,-1)\n",
    "x_input.shape"
   ]
  },
  {
   "cell_type": "code",
   "execution_count": 328,
   "metadata": {},
   "outputs": [],
   "source": [
    "temp_input=list(x_input)\n",
    "temp_input=temp_input[0].tolist()"
   ]
  },
  {
   "cell_type": "code",
   "execution_count": 329,
   "metadata": {},
   "outputs": [
    {
     "data": {
      "text/plain": [
       "[0.0901571546732837,\n",
       " 0.3672456575682382,\n",
       " 0.05459057071960297,\n",
       " 0.021918941273779982,\n",
       " 0.047146401985111656,\n",
       " 0.02398676592224979,\n",
       " 0.1443341604631927,\n",
       " 0.024813895781637715,\n",
       " 0.04259718775847808,\n",
       " 0.048800661703887506,\n",
       " 0.3138957816377171,\n",
       " 0.3713813068651778,\n",
       " 0.04177005789909015,\n",
       " 0.04755996691480562,\n",
       " 0.2882547559966915,\n",
       " 0.34532671629445816,\n",
       " 0.3961952026468155,\n",
       " 0.08436724565756823,\n",
       " 0.39040529363110005,\n",
       " 0.49255583126550856,\n",
       " 0.2853598014888337,\n",
       " 0.23573200992555826,\n",
       " 0.047146401985111656,\n",
       " 0.0380479735318445,\n",
       " 0.048800661703887506,\n",
       " 0.03019023986765922,\n",
       " 0.14267990074441686,\n",
       " 0.02812241521918941,\n",
       " 0.03970223325062035,\n",
       " 0.035153019023986765,\n",
       " 0.0401157981803143,\n",
       " 0.12779156327543423,\n",
       " 0.04177005789909015,\n",
       " 0.030603804797353185,\n",
       " 0.45905707196029777,\n",
       " 0.47229114971050457,\n",
       " 0.47849462365591394,\n",
       " 0.5698924731182796,\n",
       " 0.3763440860215054,\n",
       " 0.315136476426799,\n",
       " 0.3296112489660877,\n",
       " 0.2485525227460711,\n",
       " 0.2411083540115798,\n",
       " 0.10835401157981803,\n",
       " 0.09222497932175351,\n",
       " 0.12200165425971876,\n",
       " 0.0901571546732837,\n",
       " 0.2096774193548387,\n",
       " 0.11042183622828784,\n",
       " 0.43465674110835395,\n",
       " 0.1575682382133995,\n",
       " 0.08767576509511993,\n",
       " 0.28618693134822165,\n",
       " 0.5115798180314309,\n",
       " 0.379652605459057,\n",
       " 0.2853598014888337,\n",
       " 0.22870140612076093,\n",
       " 0.14061207609594706,\n",
       " 0.3982630272952853,\n",
       " 0.2841191066997519,\n",
       " 0.02646815550041356,\n",
       " 0.05913978494623656,\n",
       " 0.2754342431761786,\n",
       " 0.13110008271298593,\n",
       " 0.033498759305210915,\n",
       " 0.03101736972704714,\n",
       " 0.03763440860215053,\n",
       " 0.07154673283705541,\n",
       " 0.2162944582299421,\n",
       " 0.11000827129859388,\n",
       " 0.04259718775847808,\n",
       " 0.04094292803970223,\n",
       " 0.054177005789909014,\n",
       " 0.1377171215880893,\n",
       " 0.0413564929693962,\n",
       " 0.027295285359801486,\n",
       " 0.0401157981803143,\n",
       " 0.02398676592224979,\n",
       " 0.14061207609594706,\n",
       " 0.021918941273779982,\n",
       " 0.04507857733664185,\n",
       " 0.01902398676592225,\n",
       " 0.0467328370554177,\n",
       " 0.018196856906534328,\n",
       " 0.16583953680727873,\n",
       " 0.06575682382133995,\n",
       " 0.19851116625310172,\n",
       " 0.05996691480562447,\n",
       " 0.13110008271298593,\n",
       " 0.10008271298593878,\n",
       " 0.13358147229114967,\n",
       " 0.17948717948717946,\n",
       " 0.11538461538461536,\n",
       " 0.08147229114971048,\n",
       " 0.11703887510339124,\n",
       " 0.2572373862696443,\n",
       " 0.21050454921422662,\n",
       " 0.2961124896608767,\n",
       " 0.413151364764268,\n",
       " 0.37882547559966906]"
      ]
     },
     "execution_count": 329,
     "metadata": {},
     "output_type": "execute_result"
    }
   ],
   "source": [
    "temp_input"
   ]
  },
  {
   "cell_type": "code",
   "execution_count": 330,
   "metadata": {},
   "outputs": [
    {
     "name": "stdout",
     "output_type": "stream",
     "text": [
      "[0.19316536]\n",
      "101\n",
      "1 day input [0.36724566 0.05459057 0.02191894 0.0471464  0.02398677 0.14433416\n",
      " 0.0248139  0.04259719 0.04880066 0.31389578 0.37138131 0.04177006\n",
      " 0.04755997 0.28825476 0.34532672 0.3961952  0.08436725 0.39040529\n",
      " 0.49255583 0.2853598  0.23573201 0.0471464  0.03804797 0.04880066\n",
      " 0.03019024 0.1426799  0.02812242 0.03970223 0.03515302 0.0401158\n",
      " 0.12779156 0.04177006 0.0306038  0.45905707 0.47229115 0.47849462\n",
      " 0.56989247 0.37634409 0.31513648 0.32961125 0.24855252 0.24110835\n",
      " 0.10835401 0.09222498 0.12200165 0.09015715 0.20967742 0.11042184\n",
      " 0.43465674 0.15756824 0.08767577 0.28618693 0.51157982 0.37965261\n",
      " 0.2853598  0.22870141 0.14061208 0.39826303 0.28411911 0.02646816\n",
      " 0.05913978 0.27543424 0.13110008 0.03349876 0.03101737 0.03763441\n",
      " 0.07154673 0.21629446 0.11000827 0.04259719 0.04094293 0.05417701\n",
      " 0.13771712 0.04135649 0.02729529 0.0401158  0.02398677 0.14061208\n",
      " 0.02191894 0.04507858 0.01902399 0.04673284 0.01819686 0.16583954\n",
      " 0.06575682 0.19851117 0.05996691 0.13110008 0.10008271 0.13358147\n",
      " 0.17948718 0.11538462 0.08147229 0.11703888 0.25723739 0.21050455\n",
      " 0.29611249 0.41315136 0.37882548 0.19316536]\n",
      "1 day output [[0.11850385]]\n",
      "2 day input [0.05459057 0.02191894 0.0471464  0.02398677 0.14433416 0.0248139\n",
      " 0.04259719 0.04880066 0.31389578 0.37138131 0.04177006 0.04755997\n",
      " 0.28825476 0.34532672 0.3961952  0.08436725 0.39040529 0.49255583\n",
      " 0.2853598  0.23573201 0.0471464  0.03804797 0.04880066 0.03019024\n",
      " 0.1426799  0.02812242 0.03970223 0.03515302 0.0401158  0.12779156\n",
      " 0.04177006 0.0306038  0.45905707 0.47229115 0.47849462 0.56989247\n",
      " 0.37634409 0.31513648 0.32961125 0.24855252 0.24110835 0.10835401\n",
      " 0.09222498 0.12200165 0.09015715 0.20967742 0.11042184 0.43465674\n",
      " 0.15756824 0.08767577 0.28618693 0.51157982 0.37965261 0.2853598\n",
      " 0.22870141 0.14061208 0.39826303 0.28411911 0.02646816 0.05913978\n",
      " 0.27543424 0.13110008 0.03349876 0.03101737 0.03763441 0.07154673\n",
      " 0.21629446 0.11000827 0.04259719 0.04094293 0.05417701 0.13771712\n",
      " 0.04135649 0.02729529 0.0401158  0.02398677 0.14061208 0.02191894\n",
      " 0.04507858 0.01902399 0.04673284 0.01819686 0.16583954 0.06575682\n",
      " 0.19851117 0.05996691 0.13110008 0.10008271 0.13358147 0.17948718\n",
      " 0.11538462 0.08147229 0.11703888 0.25723739 0.21050455 0.29611249\n",
      " 0.41315136 0.37882548 0.19316536 0.11850385]\n",
      "2 day output [[0.11273331]]\n",
      "3 day input [0.02191894 0.0471464  0.02398677 0.14433416 0.0248139  0.04259719\n",
      " 0.04880066 0.31389578 0.37138131 0.04177006 0.04755997 0.28825476\n",
      " 0.34532672 0.3961952  0.08436725 0.39040529 0.49255583 0.2853598\n",
      " 0.23573201 0.0471464  0.03804797 0.04880066 0.03019024 0.1426799\n",
      " 0.02812242 0.03970223 0.03515302 0.0401158  0.12779156 0.04177006\n",
      " 0.0306038  0.45905707 0.47229115 0.47849462 0.56989247 0.37634409\n",
      " 0.31513648 0.32961125 0.24855252 0.24110835 0.10835401 0.09222498\n",
      " 0.12200165 0.09015715 0.20967742 0.11042184 0.43465674 0.15756824\n",
      " 0.08767577 0.28618693 0.51157982 0.37965261 0.2853598  0.22870141\n",
      " 0.14061208 0.39826303 0.28411911 0.02646816 0.05913978 0.27543424\n",
      " 0.13110008 0.03349876 0.03101737 0.03763441 0.07154673 0.21629446\n",
      " 0.11000827 0.04259719 0.04094293 0.05417701 0.13771712 0.04135649\n",
      " 0.02729529 0.0401158  0.02398677 0.14061208 0.02191894 0.04507858\n",
      " 0.01902399 0.04673284 0.01819686 0.16583954 0.06575682 0.19851117\n",
      " 0.05996691 0.13110008 0.10008271 0.13358147 0.17948718 0.11538462\n",
      " 0.08147229 0.11703888 0.25723739 0.21050455 0.29611249 0.41315136\n",
      " 0.37882548 0.19316536 0.11850385 0.11273331]\n",
      "3 day output [[0.12678736]]\n",
      "4 day input [0.0471464  0.02398677 0.14433416 0.0248139  0.04259719 0.04880066\n",
      " 0.31389578 0.37138131 0.04177006 0.04755997 0.28825476 0.34532672\n",
      " 0.3961952  0.08436725 0.39040529 0.49255583 0.2853598  0.23573201\n",
      " 0.0471464  0.03804797 0.04880066 0.03019024 0.1426799  0.02812242\n",
      " 0.03970223 0.03515302 0.0401158  0.12779156 0.04177006 0.0306038\n",
      " 0.45905707 0.47229115 0.47849462 0.56989247 0.37634409 0.31513648\n",
      " 0.32961125 0.24855252 0.24110835 0.10835401 0.09222498 0.12200165\n",
      " 0.09015715 0.20967742 0.11042184 0.43465674 0.15756824 0.08767577\n",
      " 0.28618693 0.51157982 0.37965261 0.2853598  0.22870141 0.14061208\n",
      " 0.39826303 0.28411911 0.02646816 0.05913978 0.27543424 0.13110008\n",
      " 0.03349876 0.03101737 0.03763441 0.07154673 0.21629446 0.11000827\n",
      " 0.04259719 0.04094293 0.05417701 0.13771712 0.04135649 0.02729529\n",
      " 0.0401158  0.02398677 0.14061208 0.02191894 0.04507858 0.01902399\n",
      " 0.04673284 0.01819686 0.16583954 0.06575682 0.19851117 0.05996691\n",
      " 0.13110008 0.10008271 0.13358147 0.17948718 0.11538462 0.08147229\n",
      " 0.11703888 0.25723739 0.21050455 0.29611249 0.41315136 0.37882548\n",
      " 0.19316536 0.11850385 0.11273331 0.12678736]\n",
      "4 day output [[0.1475139]]\n",
      "5 day input [0.02398677 0.14433416 0.0248139  0.04259719 0.04880066 0.31389578\n",
      " 0.37138131 0.04177006 0.04755997 0.28825476 0.34532672 0.3961952\n",
      " 0.08436725 0.39040529 0.49255583 0.2853598  0.23573201 0.0471464\n",
      " 0.03804797 0.04880066 0.03019024 0.1426799  0.02812242 0.03970223\n",
      " 0.03515302 0.0401158  0.12779156 0.04177006 0.0306038  0.45905707\n",
      " 0.47229115 0.47849462 0.56989247 0.37634409 0.31513648 0.32961125\n",
      " 0.24855252 0.24110835 0.10835401 0.09222498 0.12200165 0.09015715\n",
      " 0.20967742 0.11042184 0.43465674 0.15756824 0.08767577 0.28618693\n",
      " 0.51157982 0.37965261 0.2853598  0.22870141 0.14061208 0.39826303\n",
      " 0.28411911 0.02646816 0.05913978 0.27543424 0.13110008 0.03349876\n",
      " 0.03101737 0.03763441 0.07154673 0.21629446 0.11000827 0.04259719\n",
      " 0.04094293 0.05417701 0.13771712 0.04135649 0.02729529 0.0401158\n",
      " 0.02398677 0.14061208 0.02191894 0.04507858 0.01902399 0.04673284\n",
      " 0.01819686 0.16583954 0.06575682 0.19851117 0.05996691 0.13110008\n",
      " 0.10008271 0.13358147 0.17948718 0.11538462 0.08147229 0.11703888\n",
      " 0.25723739 0.21050455 0.29611249 0.41315136 0.37882548 0.19316536\n",
      " 0.11850385 0.11273331 0.12678736 0.1475139 ]\n",
      "5 day output [[0.16405603]]\n",
      "6 day input [0.14433416 0.0248139  0.04259719 0.04880066 0.31389578 0.37138131\n",
      " 0.04177006 0.04755997 0.28825476 0.34532672 0.3961952  0.08436725\n",
      " 0.39040529 0.49255583 0.2853598  0.23573201 0.0471464  0.03804797\n",
      " 0.04880066 0.03019024 0.1426799  0.02812242 0.03970223 0.03515302\n",
      " 0.0401158  0.12779156 0.04177006 0.0306038  0.45905707 0.47229115\n",
      " 0.47849462 0.56989247 0.37634409 0.31513648 0.32961125 0.24855252\n",
      " 0.24110835 0.10835401 0.09222498 0.12200165 0.09015715 0.20967742\n",
      " 0.11042184 0.43465674 0.15756824 0.08767577 0.28618693 0.51157982\n",
      " 0.37965261 0.2853598  0.22870141 0.14061208 0.39826303 0.28411911\n",
      " 0.02646816 0.05913978 0.27543424 0.13110008 0.03349876 0.03101737\n",
      " 0.03763441 0.07154673 0.21629446 0.11000827 0.04259719 0.04094293\n",
      " 0.05417701 0.13771712 0.04135649 0.02729529 0.0401158  0.02398677\n",
      " 0.14061208 0.02191894 0.04507858 0.01902399 0.04673284 0.01819686\n",
      " 0.16583954 0.06575682 0.19851117 0.05996691 0.13110008 0.10008271\n",
      " 0.13358147 0.17948718 0.11538462 0.08147229 0.11703888 0.25723739\n",
      " 0.21050455 0.29611249 0.41315136 0.37882548 0.19316536 0.11850385\n",
      " 0.11273331 0.12678736 0.1475139  0.16405603]\n",
      "6 day output [[0.15391779]]\n",
      "7 day input [0.0248139  0.04259719 0.04880066 0.31389578 0.37138131 0.04177006\n",
      " 0.04755997 0.28825476 0.34532672 0.3961952  0.08436725 0.39040529\n",
      " 0.49255583 0.2853598  0.23573201 0.0471464  0.03804797 0.04880066\n",
      " 0.03019024 0.1426799  0.02812242 0.03970223 0.03515302 0.0401158\n",
      " 0.12779156 0.04177006 0.0306038  0.45905707 0.47229115 0.47849462\n",
      " 0.56989247 0.37634409 0.31513648 0.32961125 0.24855252 0.24110835\n",
      " 0.10835401 0.09222498 0.12200165 0.09015715 0.20967742 0.11042184\n",
      " 0.43465674 0.15756824 0.08767577 0.28618693 0.51157982 0.37965261\n",
      " 0.2853598  0.22870141 0.14061208 0.39826303 0.28411911 0.02646816\n",
      " 0.05913978 0.27543424 0.13110008 0.03349876 0.03101737 0.03763441\n",
      " 0.07154673 0.21629446 0.11000827 0.04259719 0.04094293 0.05417701\n",
      " 0.13771712 0.04135649 0.02729529 0.0401158  0.02398677 0.14061208\n",
      " 0.02191894 0.04507858 0.01902399 0.04673284 0.01819686 0.16583954\n",
      " 0.06575682 0.19851117 0.05996691 0.13110008 0.10008271 0.13358147\n",
      " 0.17948718 0.11538462 0.08147229 0.11703888 0.25723739 0.21050455\n",
      " 0.29611249 0.41315136 0.37882548 0.19316536 0.11850385 0.11273331\n",
      " 0.12678736 0.1475139  0.16405603 0.15391779]\n",
      "7 day output [[0.12188173]]\n",
      "8 day input [0.04259719 0.04880066 0.31389578 0.37138131 0.04177006 0.04755997\n",
      " 0.28825476 0.34532672 0.3961952  0.08436725 0.39040529 0.49255583\n",
      " 0.2853598  0.23573201 0.0471464  0.03804797 0.04880066 0.03019024\n",
      " 0.1426799  0.02812242 0.03970223 0.03515302 0.0401158  0.12779156\n",
      " 0.04177006 0.0306038  0.45905707 0.47229115 0.47849462 0.56989247\n",
      " 0.37634409 0.31513648 0.32961125 0.24855252 0.24110835 0.10835401\n",
      " 0.09222498 0.12200165 0.09015715 0.20967742 0.11042184 0.43465674\n",
      " 0.15756824 0.08767577 0.28618693 0.51157982 0.37965261 0.2853598\n",
      " 0.22870141 0.14061208 0.39826303 0.28411911 0.02646816 0.05913978\n",
      " 0.27543424 0.13110008 0.03349876 0.03101737 0.03763441 0.07154673\n",
      " 0.21629446 0.11000827 0.04259719 0.04094293 0.05417701 0.13771712\n",
      " 0.04135649 0.02729529 0.0401158  0.02398677 0.14061208 0.02191894\n",
      " 0.04507858 0.01902399 0.04673284 0.01819686 0.16583954 0.06575682\n",
      " 0.19851117 0.05996691 0.13110008 0.10008271 0.13358147 0.17948718\n",
      " 0.11538462 0.08147229 0.11703888 0.25723739 0.21050455 0.29611249\n",
      " 0.41315136 0.37882548 0.19316536 0.11850385 0.11273331 0.12678736\n",
      " 0.1475139  0.16405603 0.15391779 0.12188173]\n",
      "8 day output [[0.12235094]]\n",
      "9 day input [0.04880066 0.31389578 0.37138131 0.04177006 0.04755997 0.28825476\n",
      " 0.34532672 0.3961952  0.08436725 0.39040529 0.49255583 0.2853598\n",
      " 0.23573201 0.0471464  0.03804797 0.04880066 0.03019024 0.1426799\n",
      " 0.02812242 0.03970223 0.03515302 0.0401158  0.12779156 0.04177006\n",
      " 0.0306038  0.45905707 0.47229115 0.47849462 0.56989247 0.37634409\n",
      " 0.31513648 0.32961125 0.24855252 0.24110835 0.10835401 0.09222498\n",
      " 0.12200165 0.09015715 0.20967742 0.11042184 0.43465674 0.15756824\n",
      " 0.08767577 0.28618693 0.51157982 0.37965261 0.2853598  0.22870141\n",
      " 0.14061208 0.39826303 0.28411911 0.02646816 0.05913978 0.27543424\n",
      " 0.13110008 0.03349876 0.03101737 0.03763441 0.07154673 0.21629446\n",
      " 0.11000827 0.04259719 0.04094293 0.05417701 0.13771712 0.04135649\n",
      " 0.02729529 0.0401158  0.02398677 0.14061208 0.02191894 0.04507858\n",
      " 0.01902399 0.04673284 0.01819686 0.16583954 0.06575682 0.19851117\n",
      " 0.05996691 0.13110008 0.10008271 0.13358147 0.17948718 0.11538462\n",
      " 0.08147229 0.11703888 0.25723739 0.21050455 0.29611249 0.41315136\n",
      " 0.37882548 0.19316536 0.11850385 0.11273331 0.12678736 0.1475139\n",
      " 0.16405603 0.15391779 0.12188173 0.12235094]\n"
     ]
    },
    {
     "name": "stdout",
     "output_type": "stream",
     "text": [
      "9 day output [[0.09931795]]\n",
      "10 day input [0.31389578 0.37138131 0.04177006 0.04755997 0.28825476 0.34532672\n",
      " 0.3961952  0.08436725 0.39040529 0.49255583 0.2853598  0.23573201\n",
      " 0.0471464  0.03804797 0.04880066 0.03019024 0.1426799  0.02812242\n",
      " 0.03970223 0.03515302 0.0401158  0.12779156 0.04177006 0.0306038\n",
      " 0.45905707 0.47229115 0.47849462 0.56989247 0.37634409 0.31513648\n",
      " 0.32961125 0.24855252 0.24110835 0.10835401 0.09222498 0.12200165\n",
      " 0.09015715 0.20967742 0.11042184 0.43465674 0.15756824 0.08767577\n",
      " 0.28618693 0.51157982 0.37965261 0.2853598  0.22870141 0.14061208\n",
      " 0.39826303 0.28411911 0.02646816 0.05913978 0.27543424 0.13110008\n",
      " 0.03349876 0.03101737 0.03763441 0.07154673 0.21629446 0.11000827\n",
      " 0.04259719 0.04094293 0.05417701 0.13771712 0.04135649 0.02729529\n",
      " 0.0401158  0.02398677 0.14061208 0.02191894 0.04507858 0.01902399\n",
      " 0.04673284 0.01819686 0.16583954 0.06575682 0.19851117 0.05996691\n",
      " 0.13110008 0.10008271 0.13358147 0.17948718 0.11538462 0.08147229\n",
      " 0.11703888 0.25723739 0.21050455 0.29611249 0.41315136 0.37882548\n",
      " 0.19316536 0.11850385 0.11273331 0.12678736 0.1475139  0.16405603\n",
      " 0.15391779 0.12188173 0.12235094 0.09931795]\n",
      "10 day output [[0.0600616]]\n",
      "11 day input [0.37138131 0.04177006 0.04755997 0.28825476 0.34532672 0.3961952\n",
      " 0.08436725 0.39040529 0.49255583 0.2853598  0.23573201 0.0471464\n",
      " 0.03804797 0.04880066 0.03019024 0.1426799  0.02812242 0.03970223\n",
      " 0.03515302 0.0401158  0.12779156 0.04177006 0.0306038  0.45905707\n",
      " 0.47229115 0.47849462 0.56989247 0.37634409 0.31513648 0.32961125\n",
      " 0.24855252 0.24110835 0.10835401 0.09222498 0.12200165 0.09015715\n",
      " 0.20967742 0.11042184 0.43465674 0.15756824 0.08767577 0.28618693\n",
      " 0.51157982 0.37965261 0.2853598  0.22870141 0.14061208 0.39826303\n",
      " 0.28411911 0.02646816 0.05913978 0.27543424 0.13110008 0.03349876\n",
      " 0.03101737 0.03763441 0.07154673 0.21629446 0.11000827 0.04259719\n",
      " 0.04094293 0.05417701 0.13771712 0.04135649 0.02729529 0.0401158\n",
      " 0.02398677 0.14061208 0.02191894 0.04507858 0.01902399 0.04673284\n",
      " 0.01819686 0.16583954 0.06575682 0.19851117 0.05996691 0.13110008\n",
      " 0.10008271 0.13358147 0.17948718 0.11538462 0.08147229 0.11703888\n",
      " 0.25723739 0.21050455 0.29611249 0.41315136 0.37882548 0.19316536\n",
      " 0.11850385 0.11273331 0.12678736 0.1475139  0.16405603 0.15391779\n",
      " 0.12188173 0.12235094 0.09931795 0.0600616 ]\n",
      "11 day output [[0.06227427]]\n",
      "12 day input [0.04177006 0.04755997 0.28825476 0.34532672 0.3961952  0.08436725\n",
      " 0.39040529 0.49255583 0.2853598  0.23573201 0.0471464  0.03804797\n",
      " 0.04880066 0.03019024 0.1426799  0.02812242 0.03970223 0.03515302\n",
      " 0.0401158  0.12779156 0.04177006 0.0306038  0.45905707 0.47229115\n",
      " 0.47849462 0.56989247 0.37634409 0.31513648 0.32961125 0.24855252\n",
      " 0.24110835 0.10835401 0.09222498 0.12200165 0.09015715 0.20967742\n",
      " 0.11042184 0.43465674 0.15756824 0.08767577 0.28618693 0.51157982\n",
      " 0.37965261 0.2853598  0.22870141 0.14061208 0.39826303 0.28411911\n",
      " 0.02646816 0.05913978 0.27543424 0.13110008 0.03349876 0.03101737\n",
      " 0.03763441 0.07154673 0.21629446 0.11000827 0.04259719 0.04094293\n",
      " 0.05417701 0.13771712 0.04135649 0.02729529 0.0401158  0.02398677\n",
      " 0.14061208 0.02191894 0.04507858 0.01902399 0.04673284 0.01819686\n",
      " 0.16583954 0.06575682 0.19851117 0.05996691 0.13110008 0.10008271\n",
      " 0.13358147 0.17948718 0.11538462 0.08147229 0.11703888 0.25723739\n",
      " 0.21050455 0.29611249 0.41315136 0.37882548 0.19316536 0.11850385\n",
      " 0.11273331 0.12678736 0.1475139  0.16405603 0.15391779 0.12188173\n",
      " 0.12235094 0.09931795 0.0600616  0.06227427]\n",
      "12 day output [[0.07653961]]\n",
      "13 day input [0.04755997 0.28825476 0.34532672 0.3961952  0.08436725 0.39040529\n",
      " 0.49255583 0.2853598  0.23573201 0.0471464  0.03804797 0.04880066\n",
      " 0.03019024 0.1426799  0.02812242 0.03970223 0.03515302 0.0401158\n",
      " 0.12779156 0.04177006 0.0306038  0.45905707 0.47229115 0.47849462\n",
      " 0.56989247 0.37634409 0.31513648 0.32961125 0.24855252 0.24110835\n",
      " 0.10835401 0.09222498 0.12200165 0.09015715 0.20967742 0.11042184\n",
      " 0.43465674 0.15756824 0.08767577 0.28618693 0.51157982 0.37965261\n",
      " 0.2853598  0.22870141 0.14061208 0.39826303 0.28411911 0.02646816\n",
      " 0.05913978 0.27543424 0.13110008 0.03349876 0.03101737 0.03763441\n",
      " 0.07154673 0.21629446 0.11000827 0.04259719 0.04094293 0.05417701\n",
      " 0.13771712 0.04135649 0.02729529 0.0401158  0.02398677 0.14061208\n",
      " 0.02191894 0.04507858 0.01902399 0.04673284 0.01819686 0.16583954\n",
      " 0.06575682 0.19851117 0.05996691 0.13110008 0.10008271 0.13358147\n",
      " 0.17948718 0.11538462 0.08147229 0.11703888 0.25723739 0.21050455\n",
      " 0.29611249 0.41315136 0.37882548 0.19316536 0.11850385 0.11273331\n",
      " 0.12678736 0.1475139  0.16405603 0.15391779 0.12188173 0.12235094\n",
      " 0.09931795 0.0600616  0.06227427 0.07653961]\n",
      "13 day output [[0.09404884]]\n",
      "14 day input [0.28825476 0.34532672 0.3961952  0.08436725 0.39040529 0.49255583\n",
      " 0.2853598  0.23573201 0.0471464  0.03804797 0.04880066 0.03019024\n",
      " 0.1426799  0.02812242 0.03970223 0.03515302 0.0401158  0.12779156\n",
      " 0.04177006 0.0306038  0.45905707 0.47229115 0.47849462 0.56989247\n",
      " 0.37634409 0.31513648 0.32961125 0.24855252 0.24110835 0.10835401\n",
      " 0.09222498 0.12200165 0.09015715 0.20967742 0.11042184 0.43465674\n",
      " 0.15756824 0.08767577 0.28618693 0.51157982 0.37965261 0.2853598\n",
      " 0.22870141 0.14061208 0.39826303 0.28411911 0.02646816 0.05913978\n",
      " 0.27543424 0.13110008 0.03349876 0.03101737 0.03763441 0.07154673\n",
      " 0.21629446 0.11000827 0.04259719 0.04094293 0.05417701 0.13771712\n",
      " 0.04135649 0.02729529 0.0401158  0.02398677 0.14061208 0.02191894\n",
      " 0.04507858 0.01902399 0.04673284 0.01819686 0.16583954 0.06575682\n",
      " 0.19851117 0.05996691 0.13110008 0.10008271 0.13358147 0.17948718\n",
      " 0.11538462 0.08147229 0.11703888 0.25723739 0.21050455 0.29611249\n",
      " 0.41315136 0.37882548 0.19316536 0.11850385 0.11273331 0.12678736\n",
      " 0.1475139  0.16405603 0.15391779 0.12188173 0.12235094 0.09931795\n",
      " 0.0600616  0.06227427 0.07653961 0.09404884]\n",
      "14 day output [[0.10279087]]\n",
      "15 day input [0.34532672 0.3961952  0.08436725 0.39040529 0.49255583 0.2853598\n",
      " 0.23573201 0.0471464  0.03804797 0.04880066 0.03019024 0.1426799\n",
      " 0.02812242 0.03970223 0.03515302 0.0401158  0.12779156 0.04177006\n",
      " 0.0306038  0.45905707 0.47229115 0.47849462 0.56989247 0.37634409\n",
      " 0.31513648 0.32961125 0.24855252 0.24110835 0.10835401 0.09222498\n",
      " 0.12200165 0.09015715 0.20967742 0.11042184 0.43465674 0.15756824\n",
      " 0.08767577 0.28618693 0.51157982 0.37965261 0.2853598  0.22870141\n",
      " 0.14061208 0.39826303 0.28411911 0.02646816 0.05913978 0.27543424\n",
      " 0.13110008 0.03349876 0.03101737 0.03763441 0.07154673 0.21629446\n",
      " 0.11000827 0.04259719 0.04094293 0.05417701 0.13771712 0.04135649\n",
      " 0.02729529 0.0401158  0.02398677 0.14061208 0.02191894 0.04507858\n",
      " 0.01902399 0.04673284 0.01819686 0.16583954 0.06575682 0.19851117\n",
      " 0.05996691 0.13110008 0.10008271 0.13358147 0.17948718 0.11538462\n",
      " 0.08147229 0.11703888 0.25723739 0.21050455 0.29611249 0.41315136\n",
      " 0.37882548 0.19316536 0.11850385 0.11273331 0.12678736 0.1475139\n",
      " 0.16405603 0.15391779 0.12188173 0.12235094 0.09931795 0.0600616\n",
      " 0.06227427 0.07653961 0.09404884 0.10279087]\n",
      "15 day output [[0.09233534]]\n",
      "16 day input [0.3961952  0.08436725 0.39040529 0.49255583 0.2853598  0.23573201\n",
      " 0.0471464  0.03804797 0.04880066 0.03019024 0.1426799  0.02812242\n",
      " 0.03970223 0.03515302 0.0401158  0.12779156 0.04177006 0.0306038\n",
      " 0.45905707 0.47229115 0.47849462 0.56989247 0.37634409 0.31513648\n",
      " 0.32961125 0.24855252 0.24110835 0.10835401 0.09222498 0.12200165\n",
      " 0.09015715 0.20967742 0.11042184 0.43465674 0.15756824 0.08767577\n",
      " 0.28618693 0.51157982 0.37965261 0.2853598  0.22870141 0.14061208\n",
      " 0.39826303 0.28411911 0.02646816 0.05913978 0.27543424 0.13110008\n",
      " 0.03349876 0.03101737 0.03763441 0.07154673 0.21629446 0.11000827\n",
      " 0.04259719 0.04094293 0.05417701 0.13771712 0.04135649 0.02729529\n",
      " 0.0401158  0.02398677 0.14061208 0.02191894 0.04507858 0.01902399\n",
      " 0.04673284 0.01819686 0.16583954 0.06575682 0.19851117 0.05996691\n",
      " 0.13110008 0.10008271 0.13358147 0.17948718 0.11538462 0.08147229\n",
      " 0.11703888 0.25723739 0.21050455 0.29611249 0.41315136 0.37882548\n",
      " 0.19316536 0.11850385 0.11273331 0.12678736 0.1475139  0.16405603\n",
      " 0.15391779 0.12188173 0.12235094 0.09931795 0.0600616  0.06227427\n",
      " 0.07653961 0.09404884 0.10279087 0.09233534]\n",
      "16 day output [[0.08370806]]\n",
      "17 day input [0.08436725 0.39040529 0.49255583 0.2853598  0.23573201 0.0471464\n",
      " 0.03804797 0.04880066 0.03019024 0.1426799  0.02812242 0.03970223\n",
      " 0.03515302 0.0401158  0.12779156 0.04177006 0.0306038  0.45905707\n",
      " 0.47229115 0.47849462 0.56989247 0.37634409 0.31513648 0.32961125\n",
      " 0.24855252 0.24110835 0.10835401 0.09222498 0.12200165 0.09015715\n",
      " 0.20967742 0.11042184 0.43465674 0.15756824 0.08767577 0.28618693\n",
      " 0.51157982 0.37965261 0.2853598  0.22870141 0.14061208 0.39826303\n",
      " 0.28411911 0.02646816 0.05913978 0.27543424 0.13110008 0.03349876\n",
      " 0.03101737 0.03763441 0.07154673 0.21629446 0.11000827 0.04259719\n",
      " 0.04094293 0.05417701 0.13771712 0.04135649 0.02729529 0.0401158\n",
      " 0.02398677 0.14061208 0.02191894 0.04507858 0.01902399 0.04673284\n",
      " 0.01819686 0.16583954 0.06575682 0.19851117 0.05996691 0.13110008\n",
      " 0.10008271 0.13358147 0.17948718 0.11538462 0.08147229 0.11703888\n",
      " 0.25723739 0.21050455 0.29611249 0.41315136 0.37882548 0.19316536\n",
      " 0.11850385 0.11273331 0.12678736 0.1475139  0.16405603 0.15391779\n",
      " 0.12188173 0.12235094 0.09931795 0.0600616  0.06227427 0.07653961\n",
      " 0.09404884 0.10279087 0.09233534 0.08370806]\n",
      "17 day output [[0.09218155]]\n",
      "18 day input [0.39040529 0.49255583 0.2853598  0.23573201 0.0471464  0.03804797\n",
      " 0.04880066 0.03019024 0.1426799  0.02812242 0.03970223 0.03515302\n",
      " 0.0401158  0.12779156 0.04177006 0.0306038  0.45905707 0.47229115\n",
      " 0.47849462 0.56989247 0.37634409 0.31513648 0.32961125 0.24855252\n",
      " 0.24110835 0.10835401 0.09222498 0.12200165 0.09015715 0.20967742\n",
      " 0.11042184 0.43465674 0.15756824 0.08767577 0.28618693 0.51157982\n",
      " 0.37965261 0.2853598  0.22870141 0.14061208 0.39826303 0.28411911\n",
      " 0.02646816 0.05913978 0.27543424 0.13110008 0.03349876 0.03101737\n",
      " 0.03763441 0.07154673 0.21629446 0.11000827 0.04259719 0.04094293\n",
      " 0.05417701 0.13771712 0.04135649 0.02729529 0.0401158  0.02398677\n",
      " 0.14061208 0.02191894 0.04507858 0.01902399 0.04673284 0.01819686\n",
      " 0.16583954 0.06575682 0.19851117 0.05996691 0.13110008 0.10008271\n",
      " 0.13358147 0.17948718 0.11538462 0.08147229 0.11703888 0.25723739\n",
      " 0.21050455 0.29611249 0.41315136 0.37882548 0.19316536 0.11850385\n",
      " 0.11273331 0.12678736 0.1475139  0.16405603 0.15391779 0.12188173\n",
      " 0.12235094 0.09931795 0.0600616  0.06227427 0.07653961 0.09404884\n",
      " 0.10279087 0.09233534 0.08370806 0.09218155]\n",
      "18 day output [[0.0959235]]\n",
      "19 day input [0.49255583 0.2853598  0.23573201 0.0471464  0.03804797 0.04880066\n",
      " 0.03019024 0.1426799  0.02812242 0.03970223 0.03515302 0.0401158\n",
      " 0.12779156 0.04177006 0.0306038  0.45905707 0.47229115 0.47849462\n",
      " 0.56989247 0.37634409 0.31513648 0.32961125 0.24855252 0.24110835\n",
      " 0.10835401 0.09222498 0.12200165 0.09015715 0.20967742 0.11042184\n",
      " 0.43465674 0.15756824 0.08767577 0.28618693 0.51157982 0.37965261\n",
      " 0.2853598  0.22870141 0.14061208 0.39826303 0.28411911 0.02646816\n",
      " 0.05913978 0.27543424 0.13110008 0.03349876 0.03101737 0.03763441\n",
      " 0.07154673 0.21629446 0.11000827 0.04259719 0.04094293 0.05417701\n",
      " 0.13771712 0.04135649 0.02729529 0.0401158  0.02398677 0.14061208\n",
      " 0.02191894 0.04507858 0.01902399 0.04673284 0.01819686 0.16583954\n",
      " 0.06575682 0.19851117 0.05996691 0.13110008 0.10008271 0.13358147\n",
      " 0.17948718 0.11538462 0.08147229 0.11703888 0.25723739 0.21050455\n",
      " 0.29611249 0.41315136 0.37882548 0.19316536 0.11850385 0.11273331\n",
      " 0.12678736 0.1475139  0.16405603 0.15391779 0.12188173 0.12235094\n",
      " 0.09931795 0.0600616  0.06227427 0.07653961 0.09404884 0.10279087\n",
      " 0.09233534 0.08370806 0.09218155 0.0959235 ]\n"
     ]
    },
    {
     "name": "stdout",
     "output_type": "stream",
     "text": [
      "19 day output [[0.08471815]]\n",
      "20 day input [0.2853598  0.23573201 0.0471464  0.03804797 0.04880066 0.03019024\n",
      " 0.1426799  0.02812242 0.03970223 0.03515302 0.0401158  0.12779156\n",
      " 0.04177006 0.0306038  0.45905707 0.47229115 0.47849462 0.56989247\n",
      " 0.37634409 0.31513648 0.32961125 0.24855252 0.24110835 0.10835401\n",
      " 0.09222498 0.12200165 0.09015715 0.20967742 0.11042184 0.43465674\n",
      " 0.15756824 0.08767577 0.28618693 0.51157982 0.37965261 0.2853598\n",
      " 0.22870141 0.14061208 0.39826303 0.28411911 0.02646816 0.05913978\n",
      " 0.27543424 0.13110008 0.03349876 0.03101737 0.03763441 0.07154673\n",
      " 0.21629446 0.11000827 0.04259719 0.04094293 0.05417701 0.13771712\n",
      " 0.04135649 0.02729529 0.0401158  0.02398677 0.14061208 0.02191894\n",
      " 0.04507858 0.01902399 0.04673284 0.01819686 0.16583954 0.06575682\n",
      " 0.19851117 0.05996691 0.13110008 0.10008271 0.13358147 0.17948718\n",
      " 0.11538462 0.08147229 0.11703888 0.25723739 0.21050455 0.29611249\n",
      " 0.41315136 0.37882548 0.19316536 0.11850385 0.11273331 0.12678736\n",
      " 0.1475139  0.16405603 0.15391779 0.12188173 0.12235094 0.09931795\n",
      " 0.0600616  0.06227427 0.07653961 0.09404884 0.10279087 0.09233534\n",
      " 0.08370806 0.09218155 0.0959235  0.08471815]\n",
      "20 day output [[0.07758316]]\n",
      "21 day input [0.23573201 0.0471464  0.03804797 0.04880066 0.03019024 0.1426799\n",
      " 0.02812242 0.03970223 0.03515302 0.0401158  0.12779156 0.04177006\n",
      " 0.0306038  0.45905707 0.47229115 0.47849462 0.56989247 0.37634409\n",
      " 0.31513648 0.32961125 0.24855252 0.24110835 0.10835401 0.09222498\n",
      " 0.12200165 0.09015715 0.20967742 0.11042184 0.43465674 0.15756824\n",
      " 0.08767577 0.28618693 0.51157982 0.37965261 0.2853598  0.22870141\n",
      " 0.14061208 0.39826303 0.28411911 0.02646816 0.05913978 0.27543424\n",
      " 0.13110008 0.03349876 0.03101737 0.03763441 0.07154673 0.21629446\n",
      " 0.11000827 0.04259719 0.04094293 0.05417701 0.13771712 0.04135649\n",
      " 0.02729529 0.0401158  0.02398677 0.14061208 0.02191894 0.04507858\n",
      " 0.01902399 0.04673284 0.01819686 0.16583954 0.06575682 0.19851117\n",
      " 0.05996691 0.13110008 0.10008271 0.13358147 0.17948718 0.11538462\n",
      " 0.08147229 0.11703888 0.25723739 0.21050455 0.29611249 0.41315136\n",
      " 0.37882548 0.19316536 0.11850385 0.11273331 0.12678736 0.1475139\n",
      " 0.16405603 0.15391779 0.12188173 0.12235094 0.09931795 0.0600616\n",
      " 0.06227427 0.07653961 0.09404884 0.10279087 0.09233534 0.08370806\n",
      " 0.09218155 0.0959235  0.08471815 0.07758316]\n",
      "21 day output [[0.07833507]]\n",
      "22 day input [0.0471464  0.03804797 0.04880066 0.03019024 0.1426799  0.02812242\n",
      " 0.03970223 0.03515302 0.0401158  0.12779156 0.04177006 0.0306038\n",
      " 0.45905707 0.47229115 0.47849462 0.56989247 0.37634409 0.31513648\n",
      " 0.32961125 0.24855252 0.24110835 0.10835401 0.09222498 0.12200165\n",
      " 0.09015715 0.20967742 0.11042184 0.43465674 0.15756824 0.08767577\n",
      " 0.28618693 0.51157982 0.37965261 0.2853598  0.22870141 0.14061208\n",
      " 0.39826303 0.28411911 0.02646816 0.05913978 0.27543424 0.13110008\n",
      " 0.03349876 0.03101737 0.03763441 0.07154673 0.21629446 0.11000827\n",
      " 0.04259719 0.04094293 0.05417701 0.13771712 0.04135649 0.02729529\n",
      " 0.0401158  0.02398677 0.14061208 0.02191894 0.04507858 0.01902399\n",
      " 0.04673284 0.01819686 0.16583954 0.06575682 0.19851117 0.05996691\n",
      " 0.13110008 0.10008271 0.13358147 0.17948718 0.11538462 0.08147229\n",
      " 0.11703888 0.25723739 0.21050455 0.29611249 0.41315136 0.37882548\n",
      " 0.19316536 0.11850385 0.11273331 0.12678736 0.1475139  0.16405603\n",
      " 0.15391779 0.12188173 0.12235094 0.09931795 0.0600616  0.06227427\n",
      " 0.07653961 0.09404884 0.10279087 0.09233534 0.08370806 0.09218155\n",
      " 0.0959235  0.08471815 0.07758316 0.07833507]\n",
      "22 day output [[0.0832558]]\n",
      "23 day input [0.03804797 0.04880066 0.03019024 0.1426799  0.02812242 0.03970223\n",
      " 0.03515302 0.0401158  0.12779156 0.04177006 0.0306038  0.45905707\n",
      " 0.47229115 0.47849462 0.56989247 0.37634409 0.31513648 0.32961125\n",
      " 0.24855252 0.24110835 0.10835401 0.09222498 0.12200165 0.09015715\n",
      " 0.20967742 0.11042184 0.43465674 0.15756824 0.08767577 0.28618693\n",
      " 0.51157982 0.37965261 0.2853598  0.22870141 0.14061208 0.39826303\n",
      " 0.28411911 0.02646816 0.05913978 0.27543424 0.13110008 0.03349876\n",
      " 0.03101737 0.03763441 0.07154673 0.21629446 0.11000827 0.04259719\n",
      " 0.04094293 0.05417701 0.13771712 0.04135649 0.02729529 0.0401158\n",
      " 0.02398677 0.14061208 0.02191894 0.04507858 0.01902399 0.04673284\n",
      " 0.01819686 0.16583954 0.06575682 0.19851117 0.05996691 0.13110008\n",
      " 0.10008271 0.13358147 0.17948718 0.11538462 0.08147229 0.11703888\n",
      " 0.25723739 0.21050455 0.29611249 0.41315136 0.37882548 0.19316536\n",
      " 0.11850385 0.11273331 0.12678736 0.1475139  0.16405603 0.15391779\n",
      " 0.12188173 0.12235094 0.09931795 0.0600616  0.06227427 0.07653961\n",
      " 0.09404884 0.10279087 0.09233534 0.08370806 0.09218155 0.0959235\n",
      " 0.08471815 0.07758316 0.07833507 0.0832558 ]\n",
      "23 day output [[0.08852725]]\n",
      "24 day input [0.04880066 0.03019024 0.1426799  0.02812242 0.03970223 0.03515302\n",
      " 0.0401158  0.12779156 0.04177006 0.0306038  0.45905707 0.47229115\n",
      " 0.47849462 0.56989247 0.37634409 0.31513648 0.32961125 0.24855252\n",
      " 0.24110835 0.10835401 0.09222498 0.12200165 0.09015715 0.20967742\n",
      " 0.11042184 0.43465674 0.15756824 0.08767577 0.28618693 0.51157982\n",
      " 0.37965261 0.2853598  0.22870141 0.14061208 0.39826303 0.28411911\n",
      " 0.02646816 0.05913978 0.27543424 0.13110008 0.03349876 0.03101737\n",
      " 0.03763441 0.07154673 0.21629446 0.11000827 0.04259719 0.04094293\n",
      " 0.05417701 0.13771712 0.04135649 0.02729529 0.0401158  0.02398677\n",
      " 0.14061208 0.02191894 0.04507858 0.01902399 0.04673284 0.01819686\n",
      " 0.16583954 0.06575682 0.19851117 0.05996691 0.13110008 0.10008271\n",
      " 0.13358147 0.17948718 0.11538462 0.08147229 0.11703888 0.25723739\n",
      " 0.21050455 0.29611249 0.41315136 0.37882548 0.19316536 0.11850385\n",
      " 0.11273331 0.12678736 0.1475139  0.16405603 0.15391779 0.12188173\n",
      " 0.12235094 0.09931795 0.0600616  0.06227427 0.07653961 0.09404884\n",
      " 0.10279087 0.09233534 0.08370806 0.09218155 0.0959235  0.08471815\n",
      " 0.07758316 0.07833507 0.0832558  0.08852725]\n",
      "24 day output [[0.09216173]]\n",
      "25 day input [0.03019024 0.1426799  0.02812242 0.03970223 0.03515302 0.0401158\n",
      " 0.12779156 0.04177006 0.0306038  0.45905707 0.47229115 0.47849462\n",
      " 0.56989247 0.37634409 0.31513648 0.32961125 0.24855252 0.24110835\n",
      " 0.10835401 0.09222498 0.12200165 0.09015715 0.20967742 0.11042184\n",
      " 0.43465674 0.15756824 0.08767577 0.28618693 0.51157982 0.37965261\n",
      " 0.2853598  0.22870141 0.14061208 0.39826303 0.28411911 0.02646816\n",
      " 0.05913978 0.27543424 0.13110008 0.03349876 0.03101737 0.03763441\n",
      " 0.07154673 0.21629446 0.11000827 0.04259719 0.04094293 0.05417701\n",
      " 0.13771712 0.04135649 0.02729529 0.0401158  0.02398677 0.14061208\n",
      " 0.02191894 0.04507858 0.01902399 0.04673284 0.01819686 0.16583954\n",
      " 0.06575682 0.19851117 0.05996691 0.13110008 0.10008271 0.13358147\n",
      " 0.17948718 0.11538462 0.08147229 0.11703888 0.25723739 0.21050455\n",
      " 0.29611249 0.41315136 0.37882548 0.19316536 0.11850385 0.11273331\n",
      " 0.12678736 0.1475139  0.16405603 0.15391779 0.12188173 0.12235094\n",
      " 0.09931795 0.0600616  0.06227427 0.07653961 0.09404884 0.10279087\n",
      " 0.09233534 0.08370806 0.09218155 0.0959235  0.08471815 0.07758316\n",
      " 0.07833507 0.0832558  0.08852725 0.09216173]\n",
      "25 day output [[0.09347865]]\n",
      "26 day input [0.1426799  0.02812242 0.03970223 0.03515302 0.0401158  0.12779156\n",
      " 0.04177006 0.0306038  0.45905707 0.47229115 0.47849462 0.56989247\n",
      " 0.37634409 0.31513648 0.32961125 0.24855252 0.24110835 0.10835401\n",
      " 0.09222498 0.12200165 0.09015715 0.20967742 0.11042184 0.43465674\n",
      " 0.15756824 0.08767577 0.28618693 0.51157982 0.37965261 0.2853598\n",
      " 0.22870141 0.14061208 0.39826303 0.28411911 0.02646816 0.05913978\n",
      " 0.27543424 0.13110008 0.03349876 0.03101737 0.03763441 0.07154673\n",
      " 0.21629446 0.11000827 0.04259719 0.04094293 0.05417701 0.13771712\n",
      " 0.04135649 0.02729529 0.0401158  0.02398677 0.14061208 0.02191894\n",
      " 0.04507858 0.01902399 0.04673284 0.01819686 0.16583954 0.06575682\n",
      " 0.19851117 0.05996691 0.13110008 0.10008271 0.13358147 0.17948718\n",
      " 0.11538462 0.08147229 0.11703888 0.25723739 0.21050455 0.29611249\n",
      " 0.41315136 0.37882548 0.19316536 0.11850385 0.11273331 0.12678736\n",
      " 0.1475139  0.16405603 0.15391779 0.12188173 0.12235094 0.09931795\n",
      " 0.0600616  0.06227427 0.07653961 0.09404884 0.10279087 0.09233534\n",
      " 0.08370806 0.09218155 0.0959235  0.08471815 0.07758316 0.07833507\n",
      " 0.0832558  0.08852725 0.09216173 0.09347865]\n",
      "26 day output [[0.09445567]]\n",
      "27 day input [0.02812242 0.03970223 0.03515302 0.0401158  0.12779156 0.04177006\n",
      " 0.0306038  0.45905707 0.47229115 0.47849462 0.56989247 0.37634409\n",
      " 0.31513648 0.32961125 0.24855252 0.24110835 0.10835401 0.09222498\n",
      " 0.12200165 0.09015715 0.20967742 0.11042184 0.43465674 0.15756824\n",
      " 0.08767577 0.28618693 0.51157982 0.37965261 0.2853598  0.22870141\n",
      " 0.14061208 0.39826303 0.28411911 0.02646816 0.05913978 0.27543424\n",
      " 0.13110008 0.03349876 0.03101737 0.03763441 0.07154673 0.21629446\n",
      " 0.11000827 0.04259719 0.04094293 0.05417701 0.13771712 0.04135649\n",
      " 0.02729529 0.0401158  0.02398677 0.14061208 0.02191894 0.04507858\n",
      " 0.01902399 0.04673284 0.01819686 0.16583954 0.06575682 0.19851117\n",
      " 0.05996691 0.13110008 0.10008271 0.13358147 0.17948718 0.11538462\n",
      " 0.08147229 0.11703888 0.25723739 0.21050455 0.29611249 0.41315136\n",
      " 0.37882548 0.19316536 0.11850385 0.11273331 0.12678736 0.1475139\n",
      " 0.16405603 0.15391779 0.12188173 0.12235094 0.09931795 0.0600616\n",
      " 0.06227427 0.07653961 0.09404884 0.10279087 0.09233534 0.08370806\n",
      " 0.09218155 0.0959235  0.08471815 0.07758316 0.07833507 0.0832558\n",
      " 0.08852725 0.09216173 0.09347865 0.09445567]\n",
      "27 day output [[0.09680705]]\n",
      "28 day input [0.03970223 0.03515302 0.0401158  0.12779156 0.04177006 0.0306038\n",
      " 0.45905707 0.47229115 0.47849462 0.56989247 0.37634409 0.31513648\n",
      " 0.32961125 0.24855252 0.24110835 0.10835401 0.09222498 0.12200165\n",
      " 0.09015715 0.20967742 0.11042184 0.43465674 0.15756824 0.08767577\n",
      " 0.28618693 0.51157982 0.37965261 0.2853598  0.22870141 0.14061208\n",
      " 0.39826303 0.28411911 0.02646816 0.05913978 0.27543424 0.13110008\n",
      " 0.03349876 0.03101737 0.03763441 0.07154673 0.21629446 0.11000827\n",
      " 0.04259719 0.04094293 0.05417701 0.13771712 0.04135649 0.02729529\n",
      " 0.0401158  0.02398677 0.14061208 0.02191894 0.04507858 0.01902399\n",
      " 0.04673284 0.01819686 0.16583954 0.06575682 0.19851117 0.05996691\n",
      " 0.13110008 0.10008271 0.13358147 0.17948718 0.11538462 0.08147229\n",
      " 0.11703888 0.25723739 0.21050455 0.29611249 0.41315136 0.37882548\n",
      " 0.19316536 0.11850385 0.11273331 0.12678736 0.1475139  0.16405603\n",
      " 0.15391779 0.12188173 0.12235094 0.09931795 0.0600616  0.06227427\n",
      " 0.07653961 0.09404884 0.10279087 0.09233534 0.08370806 0.09218155\n",
      " 0.0959235  0.08471815 0.07758316 0.07833507 0.0832558  0.08852725\n",
      " 0.09216173 0.09347865 0.09445567 0.09680705]\n",
      "28 day output [[0.09927547]]\n",
      "29 day input [0.03515302 0.0401158  0.12779156 0.04177006 0.0306038  0.45905707\n",
      " 0.47229115 0.47849462 0.56989247 0.37634409 0.31513648 0.32961125\n",
      " 0.24855252 0.24110835 0.10835401 0.09222498 0.12200165 0.09015715\n",
      " 0.20967742 0.11042184 0.43465674 0.15756824 0.08767577 0.28618693\n",
      " 0.51157982 0.37965261 0.2853598  0.22870141 0.14061208 0.39826303\n",
      " 0.28411911 0.02646816 0.05913978 0.27543424 0.13110008 0.03349876\n",
      " 0.03101737 0.03763441 0.07154673 0.21629446 0.11000827 0.04259719\n",
      " 0.04094293 0.05417701 0.13771712 0.04135649 0.02729529 0.0401158\n",
      " 0.02398677 0.14061208 0.02191894 0.04507858 0.01902399 0.04673284\n",
      " 0.01819686 0.16583954 0.06575682 0.19851117 0.05996691 0.13110008\n",
      " 0.10008271 0.13358147 0.17948718 0.11538462 0.08147229 0.11703888\n",
      " 0.25723739 0.21050455 0.29611249 0.41315136 0.37882548 0.19316536\n",
      " 0.11850385 0.11273331 0.12678736 0.1475139  0.16405603 0.15391779\n",
      " 0.12188173 0.12235094 0.09931795 0.0600616  0.06227427 0.07653961\n",
      " 0.09404884 0.10279087 0.09233534 0.08370806 0.09218155 0.0959235\n",
      " 0.08471815 0.07758316 0.07833507 0.0832558  0.08852725 0.09216173\n",
      " 0.09347865 0.09445567 0.09680705 0.09927547]\n"
     ]
    },
    {
     "name": "stdout",
     "output_type": "stream",
     "text": [
      "29 day output [[0.09984147]]\n",
      "[[0.1931653618812561], [0.11850384622812271], [0.11273331195116043], [0.12678736448287964], [0.14751389622688293], [0.16405603289604187], [0.15391778945922852], [0.12188173085451126], [0.12235093861818314], [0.09931795299053192], [0.06006159633398056], [0.062274269759655], [0.07653960585594177], [0.09404884278774261], [0.10279086977243423], [0.09233533591032028], [0.08370806276798248], [0.09218154847621918], [0.09592349827289581], [0.08471815288066864], [0.07758316397666931], [0.07833506911993027], [0.08325579762458801], [0.08852725476026535], [0.09216172993183136], [0.09347864985466003], [0.09445567429065704], [0.09680704772472382], [0.09927546977996826], [0.09984146803617477]]\n"
     ]
    }
   ],
   "source": [
    "\n",
    "# demonstrate prediction for next 1 day\n",
    "from numpy import array\n",
    "\n",
    "lst_output=[]\n",
    "n_steps=100\n",
    "i=0\n",
    "while(i<30):\n",
    "    \n",
    "    if(len(temp_input)>100):\n",
    "        #print(temp_input)\n",
    "        x_input=np.array(temp_input[1:])\n",
    "        print(\"{} day input {}\".format(i,x_input))\n",
    "        x_input=x_input.reshape(1,-1)\n",
    "        x_input = x_input.reshape((1, n_steps, 1))\n",
    "        #print(x_input)\n",
    "        yhat = model.predict(x_input, verbose=0)\n",
    "        print(\"{} day output {}\".format(i,yhat))\n",
    "        temp_input.extend(yhat[0].tolist())\n",
    "        temp_input=temp_input[1:]\n",
    "        #print(temp_input)\n",
    "        lst_output.extend(yhat.tolist())\n",
    "        i=i+1\n",
    "    else:\n",
    "        x_input = x_input.reshape((1, n_steps,1))\n",
    "        yhat = model.predict(x_input, verbose=0)\n",
    "        print(yhat[0])\n",
    "        temp_input.extend(yhat[0].tolist())\n",
    "        print(len(temp_input))\n",
    "        lst_output.extend(yhat.tolist())\n",
    "        i=i+1\n",
    "    \n",
    "\n",
    "print(lst_output)"
   ]
  },
  {
   "cell_type": "code",
   "execution_count": 331,
   "metadata": {},
   "outputs": [],
   "source": [
    "day_new=np.arange(1,101)\n",
    "day_pred=np.arange(101,131)"
   ]
  },
  {
   "cell_type": "code",
   "execution_count": 332,
   "metadata": {},
   "outputs": [],
   "source": [
    "\n",
    "import matplotlib.pyplot as plt"
   ]
  },
  {
   "cell_type": "code",
   "execution_count": 333,
   "metadata": {},
   "outputs": [
    {
     "data": {
      "text/plain": [
       "17568"
      ]
     },
     "execution_count": 333,
     "metadata": {},
     "output_type": "execute_result"
    }
   ],
   "source": [
    "len(df1)"
   ]
  },
  {
   "cell_type": "code",
   "execution_count": 334,
   "metadata": {},
   "outputs": [
    {
     "data": {
      "text/plain": [
       "[<matplotlib.lines.Line2D at 0x21616666100>]"
      ]
     },
     "execution_count": 334,
     "metadata": {},
     "output_type": "execute_result"
    },
    {
     "data": {
      "image/png": "[encoded data removed]",
      "text/plain": [
       "<Figure size 432x288 with 1 Axes>"
      ]
     },
     "metadata": {
      "needs_background": "light"
     },
     "output_type": "display_data"
    }
   ],
   "source": [
    "plt.plot(day_new,scaler.inverse_transform(df1[17468:]))\n",
    "plt.plot(day_pred,scaler.inverse_transform(lst_output))"
   ]
  },
  {
   "cell_type": "code",
   "execution_count": 335,
   "metadata": {},
   "outputs": [
    {
     "data": {
      "text/plain": [
       "[<matplotlib.lines.Line2D at 0x216166168e0>]"
      ]
     },
     "execution_count": 335,
     "metadata": {},
     "output_type": "execute_result"
    },
    {
     "data": {
      "image/png": "[encoded data removed]",
      "text/plain": [
       "<Figure size 432x288 with 1 Axes>"
      ]
     },
     "metadata": {
      "needs_background": "light"
     },
     "output_type": "display_data"
    }
   ],
   "source": [
    "df3=df1.tolist()\n",
    "df3.extend(lst_output)\n",
    "plt.plot(df3[17400:])"
   ]
  },
  {
   "cell_type": "code",
   "execution_count": 336,
   "metadata": {},
   "outputs": [],
   "source": [
    "df3=scaler.inverse_transform(df3).tolist()"
   ]
  },
  {
   "cell_type": "code",
   "execution_count": 111,
   "metadata": {},
   "outputs": [
    {
     "data": {
      "text/plain": [
       "[<matplotlib.lines.Line2D at 0x216721bed60>]"
      ]
     },
     "execution_count": 111,
     "metadata": {},
     "output_type": "execute_result"
    },
    {
     "data": {
      "image/png": "[encoded data removed]",
      "text/plain": [
       "<Figure size 432x288 with 1 Axes>"
      ]
     },
     "metadata": {
      "needs_background": "light"
     },
     "output_type": "display_data"
    }
   ],
   "source": [
    "plt.plot(df3)"
   ]
  },
  {
   "cell_type": "code",
   "execution_count": 112,
   "metadata": {},
   "outputs": [],
   "source": [
    "from sklearn.linear_model import LinearRegression\n",
    "lin_model=LinearRegression()"
   ]
  },
  {
   "cell_type": "code",
   "execution_count": 113,
   "metadata": {},
   "outputs": [
    {
     "name": "stdout",
     "output_type": "stream",
     "text": [
      "(11318, 100, 1)\n",
      "(11318,)\n"
     ]
    },
    {
     "data": {
      "text/plain": [
       "(None, None)"
      ]
     },
     "execution_count": 113,
     "metadata": {},
     "output_type": "execute_result"
    }
   ],
   "source": [
    "print(X_train.shape), print(y_train.shape)"
   ]
  },
  {
   "cell_type": "code",
   "execution_count": 127,
   "metadata": {},
   "outputs": [
    {
     "data": {
      "text/plain": [
       "array([0.03804797])"
      ]
     },
     "execution_count": 127,
     "metadata": {},
     "output_type": "execute_result"
    }
   ],
   "source": [
    "df1[99]"
   ]
  },
  {
   "cell_type": "code",
   "execution_count": 144,
   "metadata": {},
   "outputs": [
    {
     "data": {
      "text/plain": [
       "0.14102564102564102"
      ]
     },
     "execution_count": 144,
     "metadata": {},
     "output_type": "execute_result"
    }
   ],
   "source": [
    "X_train[11317][99]"
   ]
  },
  {
   "cell_type": "code",
   "execution_count": 134,
   "metadata": {},
   "outputs": [
    {
     "data": {
      "text/plain": [
       "array([0.01364764, 0.03846154, 0.21091811, ..., 0.08271299, 0.14102564,\n",
       "       0.10421836])"
      ]
     },
     "execution_count": 134,
     "metadata": {},
     "output_type": "execute_result"
    }
   ],
   "source": [
    "y_train"
   ]
  },
  {
   "cell_type": "code",
   "execution_count": 145,
   "metadata": {},
   "outputs": [],
   "source": [
    "from sklearn.linear_model import LinearRegression\n",
    "lin_model=LinearRegression()"
   ]
  },
  {
   "cell_type": "code",
   "execution_count": 146,
   "metadata": {},
   "outputs": [],
   "source": [
    "\n",
    "from sklearn.ensemble import RandomForestRegressor\n",
    "model=RandomForestRegressor(n_estimators=100,max_features=3, random_state=1)"
   ]
  },
  {
   "cell_type": "code",
   "execution_count": 208,
   "metadata": {},
   "outputs": [],
   "source": [
    "from statsmodels.tsa.stattools import adfuller\n",
    "\n",
    "def adf_test(dataset):\n",
    "  dftest = adfuller(dataset, autolag = 'AIC')\n",
    "  print(\"1. ADF : \",dftest[0])\n",
    "  print(\"2. P-Value : \", dftest[1])\n",
    "  print(\"3. Num Of Lags : \", dftest[2])\n",
    "  print(\"4. Num Of Observations Used For ADF Regression and Critical Values Calculation :\", dftest[3])\n",
    "  print(\"5. Critical Values :\")\n",
    "  for key, val in dftest[4].items():\n",
    "      print(\"\\t\",key, \": \", val)"
   ]
  },
  {
   "cell_type": "code",
   "execution_count": 209,
   "metadata": {},
   "outputs": [
    {
     "name": "stdout",
     "output_type": "stream",
     "text": [
      "1. ADF :  -16.53570294809054\n",
      "2. P-Value :  2.0048306025242128e-29\n",
      "3. Num Of Lags :  44\n",
      "4. Num Of Observations Used For ADF Regression and Critical Values Calculation : 17523\n",
      "5. Critical Values :\n",
      "\t 1% :  -3.430723238497956\n",
      "\t 5% :  -2.861704957013964\n",
      "\t 10% :  -2.5668578023342805\n"
     ]
    }
   ],
   "source": [
    "adf_test(df[1]['GC'])"
   ]
  },
  {
   "cell_type": "code",
   "execution_count": 241,
   "metadata": {},
   "outputs": [],
   "source": [
    "\n",
    "from pmdarima import auto_arima\n",
    "# Ignore harmless warnings\n",
    "import warnings\n",
    "warnings.filterwarnings(\"ignore\")"
   ]
  },
  {
   "cell_type": "code",
   "execution_count": 242,
   "metadata": {
    "scrolled": true
   },
   "outputs": [
    {
     "data": {
      "text/html": [
       "<table class=\"simpletable\">\n",
       "<caption>SARIMAX Results</caption>\n",
       "<tr>\n",
       "  <th>Dep. Variable:</th>           <td>y</td>        <th>  No. Observations:  </th>    <td>17568</td>  \n",
       "</tr>\n",
       "<tr>\n",
       "  <th>Model:</th>           <td>SARIMAX(0, 1, 1)</td> <th>  Log Likelihood     </th> <td>-13669.918</td>\n",
       "</tr>\n",
       "<tr>\n",
       "  <th>Date:</th>            <td>Wed, 26 May 2021</td> <th>  AIC                </th>  <td>27343.835</td>\n",
       "</tr>\n",
       "<tr>\n",
       "  <th>Time:</th>                <td>02:10:44</td>     <th>  BIC                </th>  <td>27359.383</td>\n",
       "</tr>\n",
       "<tr>\n",
       "  <th>Sample:</th>                  <td>0</td>        <th>  HQIC               </th>  <td>27348.954</td>\n",
       "</tr>\n",
       "<tr>\n",
       "  <th></th>                     <td> - 17568</td>     <th>                     </th>      <td> </td>    \n",
       "</tr>\n",
       "<tr>\n",
       "  <th>Covariance Type:</th>        <td>opg</td>       <th>                     </th>      <td> </td>    \n",
       "</tr>\n",
       "</table>\n",
       "<table class=\"simpletable\">\n",
       "<tr>\n",
       "     <td></td>       <th>coef</th>     <th>std err</th>      <th>z</th>      <th>P>|z|</th>  <th>[0.025</th>    <th>0.975]</th>  \n",
       "</tr>\n",
       "<tr>\n",
       "  <th>ma.L1</th>  <td>   -0.6297</td> <td>    0.004</td> <td> -155.934</td> <td> 0.000</td> <td>   -0.638</td> <td>   -0.622</td>\n",
       "</tr>\n",
       "<tr>\n",
       "  <th>sigma2</th> <td>    0.2776</td> <td>    0.002</td> <td>  147.989</td> <td> 0.000</td> <td>    0.274</td> <td>    0.281</td>\n",
       "</tr>\n",
       "</table>\n",
       "<table class=\"simpletable\">\n",
       "<tr>\n",
       "  <th>Ljung-Box (L1) (Q):</th>     <td>438.03</td> <th>  Jarque-Bera (JB):  </th> <td>8699.61</td>\n",
       "</tr>\n",
       "<tr>\n",
       "  <th>Prob(Q):</th>                 <td>0.00</td>  <th>  Prob(JB):          </th>  <td>0.00</td>  \n",
       "</tr>\n",
       "<tr>\n",
       "  <th>Heteroskedasticity (H):</th>  <td>1.32</td>  <th>  Skew:              </th>  <td>0.86</td>  \n",
       "</tr>\n",
       "<tr>\n",
       "  <th>Prob(H) (two-sided):</th>     <td>0.00</td>  <th>  Kurtosis:          </th>  <td>5.99</td>  \n",
       "</tr>\n",
       "</table><br/><br/>Warnings:<br/>[1] Covariance matrix calculated using the outer product of gradients (complex-step)."
      ],
      "text/plain": [
       "<class 'statsmodels.iolib.summary.Summary'>\n",
       "\"\"\"\n",
       "                               SARIMAX Results                                \n",
       "==============================================================================\n",
       "Dep. Variable:                      y   No. Observations:                17568\n",
       "Model:               SARIMAX(0, 1, 1)   Log Likelihood              -13669.918\n",
       "Date:                Wed, 26 May 2021   AIC                          27343.835\n",
       "Time:                        02:10:44   BIC                          27359.383\n",
       "Sample:                             0   HQIC                         27348.954\n",
       "                              - 17568                                         \n",
       "Covariance Type:                  opg                                         \n",
       "==============================================================================\n",
       "                 coef    std err          z      P>|z|      [0.025      0.975]\n",
       "------------------------------------------------------------------------------\n",
       "ma.L1         -0.6297      0.004   -155.934      0.000      -0.638      -0.622\n",
       "sigma2         0.2776      0.002    147.989      0.000       0.274       0.281\n",
       "===================================================================================\n",
       "Ljung-Box (L1) (Q):                 438.03   Jarque-Bera (JB):              8699.61\n",
       "Prob(Q):                              0.00   Prob(JB):                         0.00\n",
       "Heteroskedasticity (H):               1.32   Skew:                             0.86\n",
       "Prob(H) (two-sided):                  0.00   Kurtosis:                         5.99\n",
       "===================================================================================\n",
       "\n",
       "Warnings:\n",
       "[1] Covariance matrix calculated using the outer product of gradients (complex-step).\n",
       "\"\"\""
      ]
     },
     "execution_count": 242,
     "metadata": {},
     "output_type": "execute_result"
    }
   ],
   "source": [
    "stepwise_fit = auto_arima(df[1]['GC'], \n",
    "                          suppress_warnings=True)           \n",
    "\n",
    "stepwise_fit.summary()"
   ]
  },
  {
   "cell_type": "code",
   "execution_count": 243,
   "metadata": {},
   "outputs": [],
   "source": [
    "from statsmodels.tsa.arima_model import ARIMA"
   ]
  },
  {
   "cell_type": "code",
   "execution_count": 244,
   "metadata": {},
   "outputs": [
    {
     "name": "stdout",
     "output_type": "stream",
     "text": [
      "(17568,)\n",
      "(11520,) (6048,)\n",
      "0.228 1.8319999999999999\n"
     ]
    }
   ],
   "source": [
    "print(df[1]['GC'].shape)\n",
    "train=df[1]['GC'].iloc[:-6048]\n",
    "test=df[1]['GC'].iloc[-6048:]\n",
    "print(train.shape,test.shape)\n",
    "print(test.iloc[0],test.iloc[-1])"
   ]
  },
  {
   "cell_type": "code",
   "execution_count": 245,
   "metadata": {},
   "outputs": [
    {
     "data": {
      "text/html": [
       "<table class=\"simpletable\">\n",
       "<caption>ARIMA Model Results</caption>\n",
       "<tr>\n",
       "  <th>Dep. Variable:</th>       <td>D.GC</td>       <th>  No. Observations:  </th>   <td>11519</td>  \n",
       "</tr>\n",
       "<tr>\n",
       "  <th>Model:</th>          <td>ARIMA(0, 1, 1)</td>  <th>  Log Likelihood     </th> <td>-8452.148</td>\n",
       "</tr>\n",
       "<tr>\n",
       "  <th>Method:</th>             <td>css-mle</td>     <th>  S.D. of innovations</th>   <td>0.504</td>  \n",
       "</tr>\n",
       "<tr>\n",
       "  <th>Date:</th>          <td>Wed, 26 May 2021</td> <th>  AIC                </th> <td>16910.296</td>\n",
       "</tr>\n",
       "<tr>\n",
       "  <th>Time:</th>              <td>02:10:59</td>     <th>  BIC                </th> <td>16932.351</td>\n",
       "</tr>\n",
       "<tr>\n",
       "  <th>Sample:</th>           <td>07-01-2011</td>    <th>  HQIC               </th> <td>16917.709</td>\n",
       "</tr>\n",
       "<tr>\n",
       "  <th></th>                 <td>- 02-25-2012</td>   <th>                     </th>     <td> </td>    \n",
       "</tr>\n",
       "</table>\n",
       "<table class=\"simpletable\">\n",
       "<tr>\n",
       "       <td></td>         <th>coef</th>     <th>std err</th>      <th>z</th>      <th>P>|z|</th>  <th>[0.025</th>    <th>0.975]</th>  \n",
       "</tr>\n",
       "<tr>\n",
       "  <th>const</th>      <td>-4.061e-05</td> <td>    0.002</td> <td>   -0.023</td> <td> 0.982</td> <td>   -0.003</td> <td>    0.003</td>\n",
       "</tr>\n",
       "<tr>\n",
       "  <th>ma.L1.D.GC</th> <td>   -0.6266</td> <td>    0.013</td> <td>  -47.992</td> <td> 0.000</td> <td>   -0.652</td> <td>   -0.601</td>\n",
       "</tr>\n",
       "</table>\n",
       "<table class=\"simpletable\">\n",
       "<caption>Roots</caption>\n",
       "<tr>\n",
       "    <td></td>   <th>            Real</th>  <th>         Imaginary</th> <th>         Modulus</th>  <th>        Frequency</th>\n",
       "</tr>\n",
       "<tr>\n",
       "  <th>MA.1</th> <td>           1.5958</td> <td>          +0.0000j</td> <td>           1.5958</td> <td>           0.0000</td>\n",
       "</tr>\n",
       "</table>"
      ],
      "text/plain": [
       "<class 'statsmodels.iolib.summary.Summary'>\n",
       "\"\"\"\n",
       "                             ARIMA Model Results                              \n",
       "==============================================================================\n",
       "Dep. Variable:                   D.GC   No. Observations:                11519\n",
       "Model:                 ARIMA(0, 1, 1)   Log Likelihood               -8452.148\n",
       "Method:                       css-mle   S.D. of innovations              0.504\n",
       "Date:                Wed, 26 May 2021   AIC                          16910.296\n",
       "Time:                        02:10:59   BIC                          16932.351\n",
       "Sample:                    07-01-2011   HQIC                         16917.709\n",
       "                         - 02-25-2012                                         \n",
       "==============================================================================\n",
       "                 coef    std err          z      P>|z|      [0.025      0.975]\n",
       "------------------------------------------------------------------------------\n",
       "const      -4.061e-05      0.002     -0.023      0.982      -0.003       0.003\n",
       "ma.L1.D.GC    -0.6266      0.013    -47.992      0.000      -0.652      -0.601\n",
       "                                    Roots                                    \n",
       "=============================================================================\n",
       "                  Real          Imaginary           Modulus         Frequency\n",
       "-----------------------------------------------------------------------------\n",
       "MA.1            1.5958           +0.0000j            1.5958            0.0000\n",
       "-----------------------------------------------------------------------------\n",
       "\"\"\""
      ]
     },
     "execution_count": 245,
     "metadata": {},
     "output_type": "execute_result"
    }
   ],
   "source": [
    "\n",
    "from statsmodels.tsa.arima_model import ARIMA\n",
    "model=ARIMA(train,order=(0,1,1))\n",
    "model=model.fit()\n",
    "model.summary()"
   ]
  },
  {
   "cell_type": "code",
   "execution_count": 246,
   "metadata": {},
   "outputs": [
    {
     "data": {
      "text/plain": [
       "2.154"
      ]
     },
     "execution_count": 246,
     "metadata": {},
     "output_type": "execute_result"
    }
   ],
   "source": [
    "train[0]"
   ]
  },
  {
   "cell_type": "code",
   "execution_count": 247,
   "metadata": {},
   "outputs": [
    {
     "data": {
      "text/plain": [
       "6048"
      ]
     },
     "execution_count": 247,
     "metadata": {},
     "output_type": "execute_result"
    }
   ],
   "source": [
    "len(test)"
   ]
  },
  {
   "cell_type": "code",
   "execution_count": 256,
   "metadata": {},
   "outputs": [
    {
     "data": {
      "text/plain": [
       "<AxesSubplot:>"
      ]
     },
     "execution_count": 256,
     "metadata": {},
     "output_type": "execute_result"
    },
    {
     "data": {
      "image/png": "[encoded data removed]",
      "text/plain": [
       "<Figure size 432x288 with 1 Axes>"
      ]
     },
     "metadata": {
      "needs_background": "light"
     },
     "output_type": "display_data"
    }
   ],
   "source": [
    "\n",
    "start=len(train)\n",
    "end=len(train)+len(test)-1\n",
    "#if the predicted values dont have date values as index, you will have to uncomment the following two commented lines to plot a graph\n",
    "#index_future_dates=pd.date_range(start='2018-12-01',end='2018-12-30')\n",
    "pred=model.predict(start=start,end=end,typ='levels').rename('ARIMA predictions')\n",
    "#pred.index=index_future_dates\n",
    "pred.plot(legend=True)\n",
    "test.plot(legend=True)"
   ]
  },
  {
   "cell_type": "code",
   "execution_count": 249,
   "metadata": {},
   "outputs": [
    {
     "data": {
      "text/plain": [
       "<AxesSubplot:>"
      ]
     },
     "execution_count": 249,
     "metadata": {},
     "output_type": "execute_result"
    },
    {
     "data": {
      "image/png": "[encoded data removed]",
      "text/plain": [
       "<Figure size 432x288 with 1 Axes>"
      ]
     },
     "metadata": {
      "needs_background": "light"
     },
     "output_type": "display_data"
    }
   ],
   "source": [
    "pred['2012-06-29':'2012-06-30'].plot(legend=True)"
   ]
  },
  {
   "cell_type": "code",
   "execution_count": 250,
   "metadata": {},
   "outputs": [
    {
     "name": "stdout",
     "output_type": "stream",
     "text": [
      "0.6874049873441747\n"
     ]
    }
   ],
   "source": [
    "from sklearn.metrics import mean_squared_error\n",
    "from math import sqrt\n",
    "rmse=sqrt(mean_squared_error(pred,test))\n",
    "print(rmse)"
   ]
  },
  {
   "cell_type": "code",
   "execution_count": 262,
   "metadata": {},
   "outputs": [
    {
     "data": {
      "text/plain": [
       "17568"
      ]
     },
     "execution_count": 262,
     "metadata": {},
     "output_type": "execute_result"
    }
   ],
   "source": [
    "start  = len(df[1]['GC'])\n",
    "start"
   ]
  },
  {
   "cell_type": "code",
   "execution_count": 259,
   "metadata": {},
   "outputs": [
    {
     "data": {
      "text/plain": [
       "2012-06-30 21:30:00    1.244\n",
       "2012-06-30 22:00:00    1.018\n",
       "2012-06-30 22:30:00    1.432\n",
       "2012-06-30 23:00:00    1.998\n",
       "2012-06-30 23:30:00    1.832\n",
       "Freq: 30T, Name: GC, dtype: float64"
      ]
     },
     "execution_count": 259,
     "metadata": {},
     "output_type": "execute_result"
    }
   ],
   "source": [
    "model2=ARIMA(df[1]['GC'],order=(0,1,1))\n",
    "model2=model2.fit()\n",
    "df[1]['GC'].tail()"
   ]
  },
  {
   "cell_type": "code",
   "execution_count": 263,
   "metadata": {},
   "outputs": [
    {
     "ename": "ValueError",
     "evalue": "Length of passed values is 6097, index implies 49.",
     "output_type": "error",
     "traceback": [
      "\u001b[1;31m---------------------------------------------------------------------------\u001b[0m",
      "\u001b[1;31mValueError\u001b[0m                                Traceback (most recent call last)",
      "\u001b[1;32m<ipython-input-263-00655cb2532c>\u001b[0m in \u001b[0;36m<module>\u001b[1;34m\u001b[0m\n\u001b[0;32m      2\u001b[0m \u001b[1;31m#print(index_future_dates)\u001b[0m\u001b[1;33m\u001b[0m\u001b[1;33m\u001b[0m\u001b[1;33m\u001b[0m\u001b[0m\n\u001b[0;32m      3\u001b[0m \u001b[1;33m\u001b[0m\u001b[0m\n\u001b[1;32m----> 4\u001b[1;33m \u001b[0mpred\u001b[0m\u001b[1;33m=\u001b[0m\u001b[0mmodel\u001b[0m\u001b[1;33m.\u001b[0m\u001b[0mpredict\u001b[0m\u001b[1;33m(\u001b[0m\u001b[0mstart\u001b[0m\u001b[1;33m=\u001b[0m\u001b[1;36m17568\u001b[0m\u001b[1;33m,\u001b[0m\u001b[0mend\u001b[0m\u001b[1;33m=\u001b[0m\u001b[1;36m17568\u001b[0m \u001b[1;33m+\u001b[0m  \u001b[1;36m48\u001b[0m\u001b[1;33m,\u001b[0m\u001b[0mtyp\u001b[0m\u001b[1;33m=\u001b[0m\u001b[1;34m'levels'\u001b[0m\u001b[1;33m)\u001b[0m\u001b[1;33m.\u001b[0m\u001b[0mrename\u001b[0m\u001b[1;33m(\u001b[0m\u001b[1;34m'ARIMA predictions'\u001b[0m\u001b[1;33m)\u001b[0m\u001b[1;33m\u001b[0m\u001b[1;33m\u001b[0m\u001b[0m\n\u001b[0m\u001b[0;32m      5\u001b[0m \u001b[1;31m#print(comp_pred)\u001b[0m\u001b[1;33m\u001b[0m\u001b[1;33m\u001b[0m\u001b[1;33m\u001b[0m\u001b[0m\n\u001b[0;32m      6\u001b[0m \u001b[0mpred\u001b[0m\u001b[1;33m.\u001b[0m\u001b[0mindex\u001b[0m\u001b[1;33m=\u001b[0m\u001b[0mindex_future_dates\u001b[0m\u001b[1;33m\u001b[0m\u001b[1;33m\u001b[0m\u001b[0m\n",
      "\u001b[1;32m~\\anaconda3\\lib\\site-packages\\statsmodels\\base\\wrapper.py\u001b[0m in \u001b[0;36mwrapper\u001b[1;34m(self, *args, **kwargs)\u001b[0m\n\u001b[0;32m    111\u001b[0m             \u001b[0mobj\u001b[0m \u001b[1;33m=\u001b[0m \u001b[0mdata\u001b[0m\u001b[1;33m.\u001b[0m\u001b[0mwrap_output\u001b[0m\u001b[1;33m(\u001b[0m\u001b[0mfunc\u001b[0m\u001b[1;33m(\u001b[0m\u001b[0mresults\u001b[0m\u001b[1;33m,\u001b[0m \u001b[1;33m*\u001b[0m\u001b[0margs\u001b[0m\u001b[1;33m,\u001b[0m \u001b[1;33m**\u001b[0m\u001b[0mkwargs\u001b[0m\u001b[1;33m)\u001b[0m\u001b[1;33m,\u001b[0m \u001b[0mhow\u001b[0m\u001b[1;33m[\u001b[0m\u001b[1;36m0\u001b[0m\u001b[1;33m]\u001b[0m\u001b[1;33m,\u001b[0m \u001b[0mhow\u001b[0m\u001b[1;33m[\u001b[0m\u001b[1;36m1\u001b[0m\u001b[1;33m:\u001b[0m\u001b[1;33m]\u001b[0m\u001b[1;33m)\u001b[0m\u001b[1;33m\u001b[0m\u001b[1;33m\u001b[0m\u001b[0m\n\u001b[0;32m    112\u001b[0m         \u001b[1;32melif\u001b[0m \u001b[0mhow\u001b[0m\u001b[1;33m:\u001b[0m\u001b[1;33m\u001b[0m\u001b[1;33m\u001b[0m\u001b[0m\n\u001b[1;32m--> 113\u001b[1;33m             \u001b[0mobj\u001b[0m \u001b[1;33m=\u001b[0m \u001b[0mdata\u001b[0m\u001b[1;33m.\u001b[0m\u001b[0mwrap_output\u001b[0m\u001b[1;33m(\u001b[0m\u001b[0mfunc\u001b[0m\u001b[1;33m(\u001b[0m\u001b[0mresults\u001b[0m\u001b[1;33m,\u001b[0m \u001b[1;33m*\u001b[0m\u001b[0margs\u001b[0m\u001b[1;33m,\u001b[0m \u001b[1;33m**\u001b[0m\u001b[0mkwargs\u001b[0m\u001b[1;33m)\u001b[0m\u001b[1;33m,\u001b[0m \u001b[0mhow\u001b[0m\u001b[1;33m)\u001b[0m\u001b[1;33m\u001b[0m\u001b[1;33m\u001b[0m\u001b[0m\n\u001b[0m\u001b[0;32m    114\u001b[0m         \u001b[1;32mreturn\u001b[0m \u001b[0mobj\u001b[0m\u001b[1;33m\u001b[0m\u001b[1;33m\u001b[0m\u001b[0m\n\u001b[0;32m    115\u001b[0m \u001b[1;33m\u001b[0m\u001b[0m\n",
      "\u001b[1;32m~\\anaconda3\\lib\\site-packages\\statsmodels\\base\\data.py\u001b[0m in \u001b[0;36mwrap_output\u001b[1;34m(self, obj, how, names)\u001b[0m\n\u001b[0;32m    443\u001b[0m             \u001b[1;32mreturn\u001b[0m \u001b[0mself\u001b[0m\u001b[1;33m.\u001b[0m\u001b[0mattach_cov\u001b[0m\u001b[1;33m(\u001b[0m\u001b[0mobj\u001b[0m\u001b[1;33m)\u001b[0m\u001b[1;33m\u001b[0m\u001b[1;33m\u001b[0m\u001b[0m\n\u001b[0;32m    444\u001b[0m         \u001b[1;32melif\u001b[0m \u001b[0mhow\u001b[0m \u001b[1;33m==\u001b[0m \u001b[1;34m'dates'\u001b[0m\u001b[1;33m:\u001b[0m\u001b[1;33m\u001b[0m\u001b[1;33m\u001b[0m\u001b[0m\n\u001b[1;32m--> 445\u001b[1;33m             \u001b[1;32mreturn\u001b[0m \u001b[0mself\u001b[0m\u001b[1;33m.\u001b[0m\u001b[0mattach_dates\u001b[0m\u001b[1;33m(\u001b[0m\u001b[0mobj\u001b[0m\u001b[1;33m)\u001b[0m\u001b[1;33m\u001b[0m\u001b[1;33m\u001b[0m\u001b[0m\n\u001b[0m\u001b[0;32m    446\u001b[0m         \u001b[1;32melif\u001b[0m \u001b[0mhow\u001b[0m \u001b[1;33m==\u001b[0m \u001b[1;34m'columns_eq'\u001b[0m\u001b[1;33m:\u001b[0m\u001b[1;33m\u001b[0m\u001b[1;33m\u001b[0m\u001b[0m\n\u001b[0;32m    447\u001b[0m             \u001b[1;32mreturn\u001b[0m \u001b[0mself\u001b[0m\u001b[1;33m.\u001b[0m\u001b[0mattach_columns_eq\u001b[0m\u001b[1;33m(\u001b[0m\u001b[0mobj\u001b[0m\u001b[1;33m)\u001b[0m\u001b[1;33m\u001b[0m\u001b[1;33m\u001b[0m\u001b[0m\n",
      "\u001b[1;32m~\\anaconda3\\lib\\site-packages\\statsmodels\\base\\data.py\u001b[0m in \u001b[0;36mattach_dates\u001b[1;34m(self, result)\u001b[0m\n\u001b[0;32m    591\u001b[0m         \u001b[1;31m# May be zero-dim, for example in the case of forecast one step in tsa\u001b[0m\u001b[1;33m\u001b[0m\u001b[1;33m\u001b[0m\u001b[1;33m\u001b[0m\u001b[0m\n\u001b[0;32m    592\u001b[0m         \u001b[1;32mif\u001b[0m \u001b[0msqueezed\u001b[0m\u001b[1;33m.\u001b[0m\u001b[0mndim\u001b[0m \u001b[1;33m<\u001b[0m \u001b[1;36m2\u001b[0m\u001b[1;33m:\u001b[0m\u001b[1;33m\u001b[0m\u001b[1;33m\u001b[0m\u001b[0m\n\u001b[1;32m--> 593\u001b[1;33m             \u001b[1;32mreturn\u001b[0m \u001b[0mSeries\u001b[0m\u001b[1;33m(\u001b[0m\u001b[0msqueezed\u001b[0m\u001b[1;33m,\u001b[0m \u001b[0mindex\u001b[0m\u001b[1;33m=\u001b[0m\u001b[0mself\u001b[0m\u001b[1;33m.\u001b[0m\u001b[0mpredict_dates\u001b[0m\u001b[1;33m)\u001b[0m\u001b[1;33m\u001b[0m\u001b[1;33m\u001b[0m\u001b[0m\n\u001b[0m\u001b[0;32m    594\u001b[0m         \u001b[1;32melse\u001b[0m\u001b[1;33m:\u001b[0m\u001b[1;33m\u001b[0m\u001b[1;33m\u001b[0m\u001b[0m\n\u001b[0;32m    595\u001b[0m             return DataFrame(np.asarray(result),\n",
      "\u001b[1;32m~\\anaconda3\\lib\\site-packages\\pandas\\core\\series.py\u001b[0m in \u001b[0;36m__init__\u001b[1;34m(self, data, index, dtype, name, copy, fastpath)\u001b[0m\n\u001b[0;32m    311\u001b[0m                 \u001b[1;32mtry\u001b[0m\u001b[1;33m:\u001b[0m\u001b[1;33m\u001b[0m\u001b[1;33m\u001b[0m\u001b[0m\n\u001b[0;32m    312\u001b[0m                     \u001b[1;32mif\u001b[0m \u001b[0mlen\u001b[0m\u001b[1;33m(\u001b[0m\u001b[0mindex\u001b[0m\u001b[1;33m)\u001b[0m \u001b[1;33m!=\u001b[0m \u001b[0mlen\u001b[0m\u001b[1;33m(\u001b[0m\u001b[0mdata\u001b[0m\u001b[1;33m)\u001b[0m\u001b[1;33m:\u001b[0m\u001b[1;33m\u001b[0m\u001b[1;33m\u001b[0m\u001b[0m\n\u001b[1;32m--> 313\u001b[1;33m                         raise ValueError(\n\u001b[0m\u001b[0;32m    314\u001b[0m                             \u001b[1;34mf\"Length of passed values is {len(data)}, \"\u001b[0m\u001b[1;33m\u001b[0m\u001b[1;33m\u001b[0m\u001b[0m\n\u001b[0;32m    315\u001b[0m                             \u001b[1;34mf\"index implies {len(index)}.\"\u001b[0m\u001b[1;33m\u001b[0m\u001b[1;33m\u001b[0m\u001b[0m\n",
      "\u001b[1;31mValueError\u001b[0m: Length of passed values is 6097, index implies 49."
     ]
    }
   ],
   "source": [
    "index_future_dates=pd.date_range(start='2012-07-1 00:00:00',end='2012-07-2 00:00:00')\n",
    "#print(index_future_dates)\n",
    "\n",
    "pred=model.predict(start=17568,end=17568 +  48,typ='levels').rename('ARIMA predictions')\n",
    "#print(comp_pred)\n",
    "pred.index=index_future_dates\n",
    "print(pred)"
   ]
  },
  {
   "cell_type": "code",
   "execution_count": null,
   "metadata": {},
   "outputs": [],
   "source": [
    "pred.plot(figsize=(12,5),legend=True)\n"
   ]
  },
  {
   "cell_type": "code",
   "execution_count": 337,
   "metadata": {},
   "outputs": [],
   "source": [
    "from sklearn.linear_model import LinearRegression\n",
    "lin_model=LinearRegression()"
   ]
  },
  {
   "cell_type": "code",
   "execution_count": 338,
   "metadata": {},
   "outputs": [],
   "source": [
    "\n",
    "from sklearn.ensemble import RandomForestRegressor\n",
    "ranmodel=RandomForestRegressor(n_estimators=100,max_features=3, random_state=1)"
   ]
  },
  {
   "cell_type": "code",
   "execution_count": 340,
   "metadata": {},
   "outputs": [
    {
     "data": {
      "text/plain": [
       "2011-07-01 00:00:00    2.154\n",
       "2011-07-01 00:30:00    1.338\n",
       "2011-07-01 01:00:00    1.348\n",
       "2011-07-01 01:30:00    1.230\n",
       "2011-07-01 02:00:00    0.642\n",
       "                       ...  \n",
       "2012-06-30 21:30:00    1.244\n",
       "2012-06-30 22:00:00    1.018\n",
       "2012-06-30 22:30:00    1.432\n",
       "2012-06-30 23:00:00    1.998\n",
       "2012-06-30 23:30:00    1.832\n",
       "Freq: 30T, Name: GC, Length: 17568, dtype: float64"
      ]
     },
     "execution_count": 340,
     "metadata": {},
     "output_type": "execute_result"
    }
   ],
   "source": [
    "df1 = df[1]['GC']\n"
   ]
  },
  {
   "cell_type": "code",
   "execution_count": 341,
   "metadata": {},
   "outputs": [],
   "source": [
    "import numpy as np\n",
    "from sklearn.preprocessing import MinMaxScaler\n",
    "scaler=MinMaxScaler(feature_range=(0,1))\n",
    "df1=scaler.fit_transform(np.array(df1).reshape(-1,1))"
   ]
  },
  {
   "cell_type": "code",
   "execution_count": 342,
   "metadata": {},
   "outputs": [],
   "source": [
    "##splitting dataset into train and test split\n",
    "training_size=int(len(df1)*0.65)\n",
    "test_size=len(df1)-training_size\n",
    "train_data,test_data=df1[0:training_size,:],df1[training_size:len(df1),:1]"
   ]
  },
  {
   "cell_type": "code",
   "execution_count": 348,
   "metadata": {},
   "outputs": [],
   "source": [
    "# reshape into X=t,t+1,t+2,t+3 and Y=t+4\n",
    "time_step = 100\n",
    "X_train, y_train = create_dataset(train_data, time_step)\n",
    "X_test, ytest = create_dataset(test_data, time_step)\n"
   ]
  },
  {
   "cell_type": "code",
   "execution_count": 349,
   "metadata": {},
   "outputs": [
    {
     "name": "stdout",
     "output_type": "stream",
     "text": [
      "(11318, 100)\n",
      "(11318,)\n"
     ]
    },
    {
     "data": {
      "text/plain": [
       "(None, None)"
      ]
     },
     "execution_count": 349,
     "metadata": {},
     "output_type": "execute_result"
    }
   ],
   "source": [
    "print(X_train.shape), print(y_train.shape)"
   ]
  },
  {
   "cell_type": "code",
   "execution_count": 350,
   "metadata": {},
   "outputs": [
    {
     "data": {
      "text/plain": [
       "LinearRegression()"
      ]
     },
     "execution_count": 350,
     "metadata": {},
     "output_type": "execute_result"
    }
   ],
   "source": [
    "ranmodel.fit(X_train,y_train)\n",
    "lin_model.fit(X_train,y_train)"
   ]
  },
  {
   "cell_type": "code",
   "execution_count": 352,
   "metadata": {},
   "outputs": [
    {
     "data": {
      "image/png": "[encoded data removed]",
      "text/plain": [
       "<Figure size 864x576 with 1 Axes>"
      ]
     },
     "metadata": {
      "needs_background": "light"
     },
     "output_type": "display_data"
    }
   ],
   "source": [
    "pred=ranmodel.predict(X_test)\n",
    "import matplotlib.pyplot as plt\n",
    "plt.rcParams[\"figure.figsize\"] = (12,8)\n",
    "plt.plot(pred,label='Random_Forest_Predictions')\n",
    "plt.plot(ytest,label='Actual Sales')\n",
    "plt.legend(loc=\"upper left\")\n",
    "plt.show()"
   ]
  },
  {
   "cell_type": "code",
   "execution_count": 354,
   "metadata": {},
   "outputs": [
    {
     "data": {
      "image/png": "[encoded data removed]",
      "text/plain": [
       "<Figure size 792x432 with 1 Axes>"
      ]
     },
     "metadata": {
      "needs_background": "light"
     },
     "output_type": "display_data"
    }
   ],
   "source": [
    "\n",
    "lin_pred=lin_model.predict(X_test)\n",
    "import matplotlib.pyplot as plt\n",
    "plt.rcParams[\"figure.figsize\"] = (11,6)\n",
    "plt.plot(lin_pred,label='Linear_Regression_Predictions')\n",
    "plt.plot(ytest,label='Actual Sales')\n",
    "plt.legend(loc=\"upper left\")\n",
    "plt.show()"
   ]
  },
  {
   "cell_type": "code",
   "execution_count": 357,
   "metadata": {},
   "outputs": [],
   "source": [
    "from sklearn.metrics import mean_squared_error\n",
    "from math import sqrt\n",
    "rmse_rf=sqrt(mean_squared_error(pred,ytest))\n",
    "rmse_lr=sqrt(mean_squared_error(lin_pred,ytest))"
   ]
  },
  {
   "cell_type": "code",
   "execution_count": 358,
   "metadata": {},
   "outputs": [
    {
     "name": "stdout",
     "output_type": "stream",
     "text": [
      "Mean Squared Error for Random Forest Model is: 0.10768544238581378\n",
      "Mean Squared Error for Linear Regression Model is: 0.09474727300793057\n"
     ]
    }
   ],
   "source": [
    "\n",
    "print('Mean Squared Error for Random Forest Model is:',rmse_rf)\n",
    "print('Mean Squared Error for Linear Regression Model is:',rmse_lr)"
   ]
  },
  {
   "cell_type": "code",
   "execution_count": 361,
   "metadata": {},
   "outputs": [],
   "source": [
    "from statsmodels.tsa.ar_model import AutoReg"
   ]
  },
  {
   "cell_type": "code",
   "execution_count": 363,
   "metadata": {},
   "outputs": [
    {
     "data": {
      "image/png": "[encoded data removed]",
      "text/plain": [
       "<Figure size 792x432 with 1 Axes>"
      ]
     },
     "metadata": {
      "needs_background": "light"
     },
     "output_type": "display_data"
    },
    {
     "data": {
      "image/png": "[encoded data removed]",
      "text/plain": [
       "<Figure size 792x432 with 1 Axes>"
      ]
     },
     "metadata": {
      "needs_background": "light"
     },
     "output_type": "display_data"
    }
   ],
   "source": [
    "from statsmodels.graphics.tsaplots import plot_pacf,plot_acf\n",
    "pacf = plot_pacf(df[1]['GC'],lags=44)\n",
    "pacf = plot_acf(df[1]['GC'],lags=44)"
   ]
  },
  {
   "cell_type": "code",
   "execution_count": 364,
   "metadata": {},
   "outputs": [],
   "source": [
    "train =  df1[:len(df1)-48]\n",
    "train = df1[len(df1)-48:]"
   ]
  },
  {
   "cell_type": "code",
   "execution_count": 366,
   "metadata": {},
   "outputs": [],
   "source": [
    "model = AutoReg(train,lags=2).fit()"
   ]
  },
  {
   "cell_type": "code",
   "execution_count": 367,
   "metadata": {},
   "outputs": [
    {
     "name": "stdout",
     "output_type": "stream",
     "text": [
      "                            AutoReg Model Results                             \n",
      "==============================================================================\n",
      "Dep. Variable:                      y   No. Observations:                   48\n",
      "Model:                     AutoReg(2)   Log Likelihood                  46.391\n",
      "Method:               Conditional MLE   S.D. of innovations              0.088\n",
      "Date:                Wed, 26 May 2021   AIC                             -4.681\n",
      "Time:                        03:12:57   BIC                             -4.522\n",
      "Sample:                             2   HQIC                            -4.621\n",
      "                                   48                                         \n",
      "==============================================================================\n",
      "                 coef    std err          z      P>|z|      [0.025      0.975]\n",
      "------------------------------------------------------------------------------\n",
      "intercept      0.0523      0.022      2.430      0.015       0.010       0.094\n",
      "y.L1           0.5552      0.134      4.147      0.000       0.293       0.818\n",
      "y.L2           0.0523      0.140      0.375      0.708      -0.221       0.326\n",
      "                                    Roots                                    \n",
      "=============================================================================\n",
      "                  Real          Imaginary           Modulus         Frequency\n",
      "-----------------------------------------------------------------------------\n",
      "AR.1            1.5692           +0.0000j            1.5692            0.0000\n",
      "AR.2          -12.1863           +0.0000j           12.1863            0.5000\n",
      "-----------------------------------------------------------------------------\n"
     ]
    }
   ],
   "source": [
    "print(model.summary())"
   ]
  },
  {
   "cell_type": "code",
   "execution_count": 370,
   "metadata": {},
   "outputs": [
    {
     "name": "stdout",
     "output_type": "stream",
     "text": [
      "[0.31629032 0.09626137 0.07127378 ... 0.15716294 0.17389578 0.19722498]\n"
     ]
    },
    {
     "data": {
      "image/png": "[encoded data removed]",
      "text/plain": [
       "<Figure size 792x432 with 1 Axes>"
      ]
     },
     "metadata": {
      "needs_background": "light"
     },
     "output_type": "display_data"
    }
   ],
   "source": [
    "from matplotlib import pyplot\n",
    "pyplot.plot(pred)\n",
    "\n",
    "print(pred)"
   ]
  },
  {
   "cell_type": "code",
   "execution_count": 369,
   "metadata": {},
   "outputs": [
    {
     "data": {
      "text/plain": [
       "array([0.31803143, 0.0471464 , 0.0719603 , ..., 0.21050455, 0.29611249,\n",
       "       0.41315136])"
      ]
     },
     "execution_count": 369,
     "metadata": {},
     "output_type": "execute_result"
    }
   ],
   "source": [
    "ytest"
   ]
  },
  {
   "cell_type": "code",
   "execution_count": 371,
   "metadata": {},
   "outputs": [
    {
     "data": {
      "text/plain": [
       "0.5227165627319879"
      ]
     },
     "execution_count": 371,
     "metadata": {},
     "output_type": "execute_result"
    }
   ],
   "source": [
    "import math\n",
    "from sklearn.metrics import mean_squared_error\n",
    "math.sqrt(mean_squared_error(ytest,test_predict))"
   ]
  },
  {
   "cell_type": "code",
   "execution_count": 373,
   "metadata": {},
   "outputs": [
    {
     "name": "stdout",
     "output_type": "stream",
     "text": [
      "[0.13313243 0.13313243 0.13313243 0.13313243 0.13313243 0.13313243\n",
      " 0.13313243 0.13313243 0.13313243 0.13313243 0.13313243 0.13313243\n",
      " 0.13313243 0.13313243 0.13313243 0.13313243 0.13313243 0.13313243\n",
      " 0.13313243 0.13313243 0.13313243 0.13313243 0.13313243 0.13313243\n",
      " 0.13313243 0.13313243 0.13313243 0.13313243 0.13313243 0.13313243\n",
      " 0.13313243 0.13313243 0.13313243 0.13313243 0.13313243 0.13313243\n",
      " 0.13313243 0.13313243 0.13313243 0.13313243 0.13313243 0.13313243\n",
      " 0.13313243 0.13313243 0.13313243 0.13313243 0.13313243 0.13313243]\n"
     ]
    }
   ],
   "source": [
    "pred_future = model.predict(start = len(df[1]['GC']) +  1,end =  len(df[1]['GC']) +  48,dynamic= False)\n",
    "print(pred_future)"
   ]
  },
  {
   "cell_type": "code",
   "execution_count": 374,
   "metadata": {},
   "outputs": [
    {
     "data": {
      "text/plain": [
       "48"
      ]
     },
     "execution_count": 374,
     "metadata": {},
     "output_type": "execute_result"
    }
   ],
   "source": [
    "len(pred_future)"
   ]
  },
  {
   "cell_type": "code",
   "execution_count": null,
   "metadata": {},
   "outputs": [],
   "source": [
    "for x in range(300):\n",
    "    for y in range(17568):\n",
    "        DF = DF +  df[1]['GC'][y]\n",
    "    "
   ]
  },
  {
   "cell_type": "code",
   "execution_count": 389,
   "metadata": {},
   "outputs": [],
   "source": [
    "sum = 1"
   ]
  },
  {
   "cell_type": "code",
   "execution_count": 391,
   "metadata": {},
   "outputs": [
    {
     "data": {
      "text/plain": [
       "5270401"
      ]
     },
     "execution_count": 391,
     "metadata": {},
     "output_type": "execute_result"
    }
   ],
   "source": [
    "sum"
   ]
  },
  {
   "cell_type": "code",
   "execution_count": 392,
   "metadata": {},
   "outputs": [
    {
     "data": {
      "text/plain": [
       "array([[0.44540943],\n",
       "       [0.27667494],\n",
       "       [0.27874276],\n",
       "       ...,\n",
       "       [0.29611249],\n",
       "       [0.41315136],\n",
       "       [0.37882548]])"
      ]
     },
     "execution_count": 392,
     "metadata": {},
     "output_type": "execute_result"
    }
   ],
   "source": [
    "df1"
   ]
  },
  {
   "cell_type": "code",
   "execution_count": 394,
   "metadata": {},
   "outputs": [
    {
     "data": {
      "text/plain": [
       "1.338"
      ]
     },
     "execution_count": 394,
     "metadata": {},
     "output_type": "execute_result"
    }
   ],
   "source": [
    "df[1]"
   ]
  },
  {
   "cell_type": "code",
   "execution_count": 426,
   "metadata": {},
   "outputs": [
    {
     "data": {
      "text/plain": [
       "2011-07-01 00:00:00    0.0\n",
       "2011-07-01 00:30:00    0.0\n",
       "2011-07-01 01:00:00    0.0\n",
       "2011-07-01 01:30:00    0.0\n",
       "2011-07-01 02:00:00    0.0\n",
       "                      ... \n",
       "2012-06-30 21:30:00    0.0\n",
       "2012-06-30 22:00:00    0.0\n",
       "2012-06-30 22:30:00    0.0\n",
       "2012-06-30 23:00:00    0.0\n",
       "2012-06-30 23:30:00    0.0\n",
       "Freq: 30T, Name: GG, Length: 17568, dtype: float64"
      ]
     },
     "execution_count": 426,
     "metadata": {},
     "output_type": "execute_result"
    }
   ],
   "source": [
    "df[1]['GC']"
   ]
  },
  {
   "cell_type": "code",
   "execution_count": 432,
   "metadata": {},
   "outputs": [
    {
     "data": {
      "text/plain": [
       "0.669"
      ]
     },
     "execution_count": 432,
     "metadata": {},
     "output_type": "execute_result"
    }
   ],
   "source": [
    "df[1]['GC'][1]"
   ]
  },
  {
   "cell_type": "code",
   "execution_count": 431,
   "metadata": {},
   "outputs": [
    {
     "data": {
      "text/plain": [
       "0.669"
      ]
     },
     "execution_count": 431,
     "metadata": {},
     "output_type": "execute_result"
    }
   ],
   "source": [
    "DF[1]"
   ]
  },
  {
   "cell_type": "code",
   "execution_count": 34,
   "metadata": {},
   "outputs": [
    {
     "data": {
      "text/html": [
       "<div>\n",
       "<style scoped>\n",
       "    .dataframe tbody tr th:only-of-type {\n",
       "        vertical-align: middle;\n",
       "    }\n",
       "\n",
       "    .dataframe tbody tr th {\n",
       "        vertical-align: top;\n",
       "    }\n",
       "\n",
       "    .dataframe thead th {\n",
       "        text-align: right;\n",
       "    }\n",
       "</style>\n",
       "<table border=\"1\" class=\"dataframe\">\n",
       "  <thead>\n",
       "    <tr style=\"text-align: right;\">\n",
       "      <th>Channel</th>\n",
       "      <th>GC</th>\n",
       "      <th>GG</th>\n",
       "      <th>CL</th>\n",
       "    </tr>\n",
       "  </thead>\n",
       "  <tbody>\n",
       "    <tr>\n",
       "      <th>2011-07-01 00:00:00</th>\n",
       "      <td>1.413</td>\n",
       "      <td>0.000</td>\n",
       "      <td>3.258</td>\n",
       "    </tr>\n",
       "    <tr>\n",
       "      <th>2011-07-01 00:30:00</th>\n",
       "      <td>0.865</td>\n",
       "      <td>0.000</td>\n",
       "      <td>1.468</td>\n",
       "    </tr>\n",
       "    <tr>\n",
       "      <th>2011-07-01 01:00:00</th>\n",
       "      <td>0.903</td>\n",
       "      <td>0.000</td>\n",
       "      <td>1.250</td>\n",
       "    </tr>\n",
       "    <tr>\n",
       "      <th>2011-07-01 01:30:00</th>\n",
       "      <td>0.859</td>\n",
       "      <td>0.000</td>\n",
       "      <td>0.625</td>\n",
       "    </tr>\n",
       "    <tr>\n",
       "      <th>2011-07-01 02:00:00</th>\n",
       "      <td>0.522</td>\n",
       "      <td>0.000</td>\n",
       "      <td>0.219</td>\n",
       "    </tr>\n",
       "    <tr>\n",
       "      <th>...</th>\n",
       "      <td>...</td>\n",
       "      <td>...</td>\n",
       "      <td>...</td>\n",
       "    </tr>\n",
       "    <tr>\n",
       "      <th>2012-06-30 21:30:00</th>\n",
       "      <td>1.056</td>\n",
       "      <td>0.000</td>\n",
       "      <td>0.000</td>\n",
       "    </tr>\n",
       "    <tr>\n",
       "      <th>2012-06-30 22:00:00</th>\n",
       "      <td>1.582</td>\n",
       "      <td>0.000</td>\n",
       "      <td>0.000</td>\n",
       "    </tr>\n",
       "    <tr>\n",
       "      <th>2012-06-30 22:30:00</th>\n",
       "      <td>1.967</td>\n",
       "      <td>0.000</td>\n",
       "      <td>0.000</td>\n",
       "    </tr>\n",
       "    <tr>\n",
       "      <th>2012-06-30 23:00:00</th>\n",
       "      <td>2.242</td>\n",
       "      <td>0.006</td>\n",
       "      <td>0.000</td>\n",
       "    </tr>\n",
       "    <tr>\n",
       "      <th>2012-06-30 23:30:00</th>\n",
       "      <td>2.006</td>\n",
       "      <td>0.000</td>\n",
       "      <td>1.063</td>\n",
       "    </tr>\n",
       "  </tbody>\n",
       "</table>\n",
       "<p>17568 rows × 3 columns</p>\n",
       "</div>"
      ],
      "text/plain": [
       "Channel                 GC     GG     CL\n",
       "2011-07-01 00:00:00  1.413  0.000  3.258\n",
       "2011-07-01 00:30:00  0.865  0.000  1.468\n",
       "2011-07-01 01:00:00  0.903  0.000  1.250\n",
       "2011-07-01 01:30:00  0.859  0.000  0.625\n",
       "2011-07-01 02:00:00  0.522  0.000  0.219\n",
       "...                    ...    ...    ...\n",
       "2012-06-30 21:30:00  1.056  0.000  0.000\n",
       "2012-06-30 22:00:00  1.582  0.000  0.000\n",
       "2012-06-30 22:30:00  1.967  0.000  0.000\n",
       "2012-06-30 23:00:00  2.242  0.006  0.000\n",
       "2012-06-30 23:30:00  2.006  0.000  1.063\n",
       "\n",
       "[17568 rows x 3 columns]"
      ]
     },
     "execution_count": 34,
     "metadata": {},
     "output_type": "execute_result"
    }
   ],
   "source": [
    "df[1] + df[2] + df[3]"
   ]
  },
  {
   "cell_type": "code",
   "execution_count": 40,
   "metadata": {},
   "outputs": [],
   "source": [
    "DF = df[1]"
   ]
  },
  {
   "cell_type": "code",
   "execution_count": 53,
   "metadata": {},
   "outputs": [],
   "source": [
    "DF = df[1]+df[2]+df[3]+df[4]+df[5]+df[6]+df[7]+df[8]+df[9]+df[10]+df[11]+df[12]+df[13]+df[14]+df[15]+ df[16]+ df[17]+df[18]+df[19]+df[20]"
   ]
  },
  {
   "cell_type": "code",
   "execution_count": 54,
   "metadata": {},
   "outputs": [
    {
     "data": {
      "text/html": [
       "<div>\n",
       "<style scoped>\n",
       "    .dataframe tbody tr th:only-of-type {\n",
       "        vertical-align: middle;\n",
       "    }\n",
       "\n",
       "    .dataframe tbody tr th {\n",
       "        vertical-align: top;\n",
       "    }\n",
       "\n",
       "    .dataframe thead th {\n",
       "        text-align: right;\n",
       "    }\n",
       "</style>\n",
       "<table border=\"1\" class=\"dataframe\">\n",
       "  <thead>\n",
       "    <tr style=\"text-align: right;\">\n",
       "      <th>Channel</th>\n",
       "      <th>CL</th>\n",
       "      <th>GC</th>\n",
       "      <th>GG</th>\n",
       "    </tr>\n",
       "  </thead>\n",
       "  <tbody>\n",
       "    <tr>\n",
       "      <th>2011-07-01 00:00:00</th>\n",
       "      <td>NaN</td>\n",
       "      <td>5.563</td>\n",
       "      <td>0.012</td>\n",
       "    </tr>\n",
       "    <tr>\n",
       "      <th>2011-07-01 00:30:00</th>\n",
       "      <td>NaN</td>\n",
       "      <td>4.012</td>\n",
       "      <td>0.000</td>\n",
       "    </tr>\n",
       "    <tr>\n",
       "      <th>2011-07-01 01:00:00</th>\n",
       "      <td>NaN</td>\n",
       "      <td>4.013</td>\n",
       "      <td>0.000</td>\n",
       "    </tr>\n",
       "    <tr>\n",
       "      <th>2011-07-01 01:30:00</th>\n",
       "      <td>NaN</td>\n",
       "      <td>3.629</td>\n",
       "      <td>0.000</td>\n",
       "    </tr>\n",
       "    <tr>\n",
       "      <th>2011-07-01 02:00:00</th>\n",
       "      <td>NaN</td>\n",
       "      <td>3.247</td>\n",
       "      <td>0.000</td>\n",
       "    </tr>\n",
       "    <tr>\n",
       "      <th>...</th>\n",
       "      <td>...</td>\n",
       "      <td>...</td>\n",
       "      <td>...</td>\n",
       "    </tr>\n",
       "    <tr>\n",
       "      <th>2012-06-30 21:30:00</th>\n",
       "      <td>NaN</td>\n",
       "      <td>8.427</td>\n",
       "      <td>0.000</td>\n",
       "    </tr>\n",
       "    <tr>\n",
       "      <th>2012-06-30 22:00:00</th>\n",
       "      <td>NaN</td>\n",
       "      <td>7.009</td>\n",
       "      <td>0.000</td>\n",
       "    </tr>\n",
       "    <tr>\n",
       "      <th>2012-06-30 22:30:00</th>\n",
       "      <td>NaN</td>\n",
       "      <td>6.760</td>\n",
       "      <td>0.006</td>\n",
       "    </tr>\n",
       "    <tr>\n",
       "      <th>2012-06-30 23:00:00</th>\n",
       "      <td>NaN</td>\n",
       "      <td>5.812</td>\n",
       "      <td>0.012</td>\n",
       "    </tr>\n",
       "    <tr>\n",
       "      <th>2012-06-30 23:30:00</th>\n",
       "      <td>NaN</td>\n",
       "      <td>5.542</td>\n",
       "      <td>0.000</td>\n",
       "    </tr>\n",
       "  </tbody>\n",
       "</table>\n",
       "<p>17568 rows × 3 columns</p>\n",
       "</div>"
      ],
      "text/plain": [
       "Channel              CL     GC     GG\n",
       "2011-07-01 00:00:00 NaN  5.563  0.012\n",
       "2011-07-01 00:30:00 NaN  4.012  0.000\n",
       "2011-07-01 01:00:00 NaN  4.013  0.000\n",
       "2011-07-01 01:30:00 NaN  3.629  0.000\n",
       "2011-07-01 02:00:00 NaN  3.247  0.000\n",
       "...                  ..    ...    ...\n",
       "2012-06-30 21:30:00 NaN  8.427  0.000\n",
       "2012-06-30 22:00:00 NaN  7.009  0.000\n",
       "2012-06-30 22:30:00 NaN  6.760  0.006\n",
       "2012-06-30 23:00:00 NaN  5.812  0.012\n",
       "2012-06-30 23:30:00 NaN  5.542  0.000\n",
       "\n",
       "[17568 rows x 3 columns]"
      ]
     },
     "execution_count": 54,
     "metadata": {},
     "output_type": "execute_result"
    }
   ],
   "source": [
    "DF "
   ]
  },
  {
   "cell_type": "code",
   "execution_count": 364,
   "metadata": {},
   "outputs": [
    {
     "data": {
      "text/html": [
       "<div>\n",
       "<style scoped>\n",
       "    .dataframe tbody tr th:only-of-type {\n",
       "        vertical-align: middle;\n",
       "    }\n",
       "\n",
       "    .dataframe tbody tr th {\n",
       "        vertical-align: top;\n",
       "    }\n",
       "\n",
       "    .dataframe thead th {\n",
       "        text-align: right;\n",
       "    }\n",
       "</style>\n",
       "<table border=\"1\" class=\"dataframe\">\n",
       "  <thead>\n",
       "    <tr style=\"text-align: right;\">\n",
       "      <th>Channel</th>\n",
       "      <th>GC</th>\n",
       "      <th>GG</th>\n",
       "      <th>CL</th>\n",
       "    </tr>\n",
       "  </thead>\n",
       "  <tbody>\n",
       "    <tr>\n",
       "      <th>2011-07-01 00:00:00</th>\n",
       "      <td>1.034</td>\n",
       "      <td>0.0</td>\n",
       "      <td>2.533</td>\n",
       "    </tr>\n",
       "    <tr>\n",
       "      <th>2011-07-01 00:30:00</th>\n",
       "      <td>0.631</td>\n",
       "      <td>0.0</td>\n",
       "      <td>0.265</td>\n",
       "    </tr>\n",
       "    <tr>\n",
       "      <th>2011-07-01 01:00:00</th>\n",
       "      <td>0.119</td>\n",
       "      <td>0.0</td>\n",
       "      <td>0.000</td>\n",
       "    </tr>\n",
       "    <tr>\n",
       "      <th>2011-07-01 01:30:00</th>\n",
       "      <td>0.098</td>\n",
       "      <td>0.0</td>\n",
       "      <td>0.000</td>\n",
       "    </tr>\n",
       "    <tr>\n",
       "      <th>2011-07-01 02:00:00</th>\n",
       "      <td>0.109</td>\n",
       "      <td>0.0</td>\n",
       "      <td>0.000</td>\n",
       "    </tr>\n",
       "    <tr>\n",
       "      <th>...</th>\n",
       "      <td>...</td>\n",
       "      <td>...</td>\n",
       "      <td>...</td>\n",
       "    </tr>\n",
       "    <tr>\n",
       "      <th>2012-06-30 21:30:00</th>\n",
       "      <td>0.200</td>\n",
       "      <td>0.0</td>\n",
       "      <td>0.000</td>\n",
       "    </tr>\n",
       "    <tr>\n",
       "      <th>2012-06-30 22:00:00</th>\n",
       "      <td>0.204</td>\n",
       "      <td>0.0</td>\n",
       "      <td>0.000</td>\n",
       "    </tr>\n",
       "    <tr>\n",
       "      <th>2012-06-30 22:30:00</th>\n",
       "      <td>0.131</td>\n",
       "      <td>0.0</td>\n",
       "      <td>0.000</td>\n",
       "    </tr>\n",
       "    <tr>\n",
       "      <th>2012-06-30 23:00:00</th>\n",
       "      <td>0.358</td>\n",
       "      <td>0.0</td>\n",
       "      <td>0.000</td>\n",
       "    </tr>\n",
       "    <tr>\n",
       "      <th>2012-06-30 23:30:00</th>\n",
       "      <td>0.235</td>\n",
       "      <td>0.0</td>\n",
       "      <td>2.621</td>\n",
       "    </tr>\n",
       "  </tbody>\n",
       "</table>\n",
       "<p>17568 rows × 3 columns</p>\n",
       "</div>"
      ],
      "text/plain": [
       "Channel                 GC   GG     CL\n",
       "2011-07-01 00:00:00  1.034  0.0  2.533\n",
       "2011-07-01 00:30:00  0.631  0.0  0.265\n",
       "2011-07-01 01:00:00  0.119  0.0  0.000\n",
       "2011-07-01 01:30:00  0.098  0.0  0.000\n",
       "2011-07-01 02:00:00  0.109  0.0  0.000\n",
       "...                    ...  ...    ...\n",
       "2012-06-30 21:30:00  0.200  0.0  0.000\n",
       "2012-06-30 22:00:00  0.204  0.0  0.000\n",
       "2012-06-30 22:30:00  0.131  0.0  0.000\n",
       "2012-06-30 23:00:00  0.358  0.0  0.000\n",
       "2012-06-30 23:30:00  0.235  0.0  2.621\n",
       "\n",
       "[17568 rows x 3 columns]"
      ]
     },
     "execution_count": 364,
     "metadata": {},
     "output_type": "execute_result"
    }
   ],
   "source": [
    "df[300]"
   ]
  },
  {
   "cell_type": "markdown",
   "metadata": {},
   "source": [
    "# "
   ]
  },
  {
   "cell_type": "code",
   "execution_count": 375,
   "metadata": {},
   "outputs": [
    {
     "data": {
      "text/html": [
       "<div>\n",
       "<style scoped>\n",
       "    .dataframe tbody tr th:only-of-type {\n",
       "        vertical-align: middle;\n",
       "    }\n",
       "\n",
       "    .dataframe tbody tr th {\n",
       "        vertical-align: top;\n",
       "    }\n",
       "\n",
       "    .dataframe thead th {\n",
       "        text-align: right;\n",
       "    }\n",
       "</style>\n",
       "<table border=\"1\" class=\"dataframe\">\n",
       "  <thead>\n",
       "    <tr style=\"text-align: right;\">\n",
       "      <th>Channel</th>\n",
       "      <th>GC</th>\n",
       "      <th>GG</th>\n",
       "      <th>CL</th>\n",
       "    </tr>\n",
       "  </thead>\n",
       "  <tbody>\n",
       "    <tr>\n",
       "      <th>2011-07-01 00:00:00</th>\n",
       "      <td>1.801</td>\n",
       "      <td>0.0</td>\n",
       "      <td>8.300</td>\n",
       "    </tr>\n",
       "    <tr>\n",
       "      <th>2011-07-01 00:30:00</th>\n",
       "      <td>1.736</td>\n",
       "      <td>0.0</td>\n",
       "      <td>8.909</td>\n",
       "    </tr>\n",
       "    <tr>\n",
       "      <th>2011-07-01 01:00:00</th>\n",
       "      <td>1.695</td>\n",
       "      <td>0.0</td>\n",
       "      <td>8.518</td>\n",
       "    </tr>\n",
       "    <tr>\n",
       "      <th>2011-07-01 01:30:00</th>\n",
       "      <td>1.608</td>\n",
       "      <td>0.0</td>\n",
       "      <td>2.762</td>\n",
       "    </tr>\n",
       "    <tr>\n",
       "      <th>2011-07-01 02:00:00</th>\n",
       "      <td>1.620</td>\n",
       "      <td>0.0</td>\n",
       "      <td>2.096</td>\n",
       "    </tr>\n",
       "    <tr>\n",
       "      <th>...</th>\n",
       "      <td>...</td>\n",
       "      <td>...</td>\n",
       "      <td>...</td>\n",
       "    </tr>\n",
       "    <tr>\n",
       "      <th>2012-06-30 21:30:00</th>\n",
       "      <td>4.409</td>\n",
       "      <td>0.0</td>\n",
       "      <td>1.841</td>\n",
       "    </tr>\n",
       "    <tr>\n",
       "      <th>2012-06-30 22:00:00</th>\n",
       "      <td>4.197</td>\n",
       "      <td>0.0</td>\n",
       "      <td>1.864</td>\n",
       "    </tr>\n",
       "    <tr>\n",
       "      <th>2012-06-30 22:30:00</th>\n",
       "      <td>2.847</td>\n",
       "      <td>0.0</td>\n",
       "      <td>3.395</td>\n",
       "    </tr>\n",
       "    <tr>\n",
       "      <th>2012-06-30 23:00:00</th>\n",
       "      <td>2.214</td>\n",
       "      <td>0.0</td>\n",
       "      <td>2.490</td>\n",
       "    </tr>\n",
       "    <tr>\n",
       "      <th>2012-06-30 23:30:00</th>\n",
       "      <td>1.814</td>\n",
       "      <td>0.0</td>\n",
       "      <td>8.378</td>\n",
       "    </tr>\n",
       "  </tbody>\n",
       "</table>\n",
       "<p>17568 rows × 3 columns</p>\n",
       "</div>"
      ],
      "text/plain": [
       "Channel                 GC   GG     CL\n",
       "2011-07-01 00:00:00  1.801  0.0  8.300\n",
       "2011-07-01 00:30:00  1.736  0.0  8.909\n",
       "2011-07-01 01:00:00  1.695  0.0  8.518\n",
       "2011-07-01 01:30:00  1.608  0.0  2.762\n",
       "2011-07-01 02:00:00  1.620  0.0  2.096\n",
       "...                    ...  ...    ...\n",
       "2012-06-30 21:30:00  4.409  0.0  1.841\n",
       "2012-06-30 22:00:00  4.197  0.0  1.864\n",
       "2012-06-30 22:30:00  2.847  0.0  3.395\n",
       "2012-06-30 23:00:00  2.214  0.0  2.490\n",
       "2012-06-30 23:30:00  1.814  0.0  8.378\n",
       "\n",
       "[17568 rows x 3 columns]"
      ]
     },
     "execution_count": 375,
     "metadata": {},
     "output_type": "execute_result"
    }
   ],
   "source": [
    "DF = df[35]+df[36]+df[37]+df[39]+df[41]+df[42]+df[43]+df[49]+df[51]+df[53]\n",
    "+df[54] + df[56] +  df[59] +df[61]+df[64]+df[65] + df[66] + df[68] + df[69] + df[70] + df[71]+ df[73]+df[75]+df[77]+df[81]+df[84]+df[87]+df[88]+df[94]+df[95]+df[96]+df[98]+df[99]+df[105]+df[107]\n",
    "+df[108]+df[110]+df[112]+df[118]+df[119]+df[122]+df[123]+df[125]+df[126]+df[127]+df[129]+df[133]+df[137]"
   ]
  },
  {
   "cell_type": "code",
   "execution_count": 380,
   "metadata": {},
   "outputs": [
    {
     "data": {
      "text/plain": [
       "<AxesSubplot:>"
      ]
     },
     "execution_count": 380,
     "metadata": {},
     "output_type": "execute_result"
    },
    {
     "data": {
      "image/png": "[encoded data removed]",
      "text/plain": [
       "<Figure size 432x288 with 1 Axes>"
      ]
     },
     "metadata": {
      "needs_background": "light"
     },
     "output_type": "display_data"
    }
   ],
   "source": [
    "DF['CL'].plot()"
   ]
  },
  {
   "cell_type": "code",
   "execution_count": null,
   "metadata": {},
   "outputs": [],
   "source": []
  }
 ],
 "metadata": {
  "kernelspec": {
   "display_name": "Python 3",
   "language": "python",
   "name": "python3"
  },
  "language_info": {
   "codemirror_mode": {
    "name": "ipython",
    "version": 3
   },
   "file_extension": ".py",
   "mimetype": "text/x-python",
   "name": "python",
   "nbconvert_exporter": "python",
   "pygments_lexer": "ipython3",
   "version": "3.8.5"
  }
 },
 "nbformat": 4,
 "nbformat_minor": 4
}
